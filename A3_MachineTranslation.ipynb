{
 "cells": [
  {
   "cell_type": "markdown",
   "metadata": {},
   "source": [
    "## Importing Libraries"
   ]
  },
  {
   "cell_type": "code",
   "execution_count": 63,
   "metadata": {},
   "outputs": [
    {
     "name": "stdout",
     "output_type": "stream",
     "text": [
      "Looking in indexes: https://download.pytorch.org/whl/cu118\n",
      "Requirement already satisfied: torch==2.2.0 in c:\\users\\st124\\onedrive\\desktop\\nlp_a3\\.venv\\lib\\site-packages (2.2.0+cu118)\n",
      "Requirement already satisfied: torchvision in c:\\users\\st124\\onedrive\\desktop\\nlp_a3\\.venv\\lib\\site-packages (0.17.0+cu118)\n",
      "Requirement already satisfied: torchaudio in c:\\users\\st124\\onedrive\\desktop\\nlp_a3\\.venv\\lib\\site-packages (2.2.0+cu118)\n",
      "Requirement already satisfied: torchtext==0.17.0 in c:\\users\\st124\\onedrive\\desktop\\nlp_a3\\.venv\\lib\\site-packages (0.17.0+cpu)\n",
      "Requirement already satisfied: filelock in c:\\users\\st124\\onedrive\\desktop\\nlp_a3\\.venv\\lib\\site-packages (from torch==2.2.0) (3.17.0)\n",
      "Requirement already satisfied: typing-extensions>=4.8.0 in c:\\users\\st124\\onedrive\\desktop\\nlp_a3\\.venv\\lib\\site-packages (from torch==2.2.0) (4.12.2)\n",
      "Requirement already satisfied: sympy in c:\\users\\st124\\onedrive\\desktop\\nlp_a3\\.venv\\lib\\site-packages (from torch==2.2.0) (1.13.1)\n",
      "Requirement already satisfied: networkx in c:\\users\\st124\\onedrive\\desktop\\nlp_a3\\.venv\\lib\\site-packages (from torch==2.2.0) (3.3)\n",
      "Requirement already satisfied: jinja2 in c:\\users\\st124\\onedrive\\desktop\\nlp_a3\\.venv\\lib\\site-packages (from torch==2.2.0) (3.1.5)\n",
      "Requirement already satisfied: fsspec in c:\\users\\st124\\onedrive\\desktop\\nlp_a3\\.venv\\lib\\site-packages (from torch==2.2.0) (2024.9.0)\n",
      "Requirement already satisfied: tqdm in c:\\users\\st124\\onedrive\\desktop\\nlp_a3\\.venv\\lib\\site-packages (from torchtext==0.17.0) (4.67.1)\n",
      "Requirement already satisfied: requests in c:\\users\\st124\\onedrive\\desktop\\nlp_a3\\.venv\\lib\\site-packages (from torchtext==0.17.0) (2.32.3)\n",
      "Requirement already satisfied: numpy in c:\\users\\st124\\onedrive\\desktop\\nlp_a3\\.venv\\lib\\site-packages (from torchtext==0.17.0) (1.26.4)\n",
      "Requirement already satisfied: torchdata==0.7.1 in c:\\users\\st124\\onedrive\\desktop\\nlp_a3\\.venv\\lib\\site-packages (from torchtext==0.17.0) (0.7.1)\n",
      "Requirement already satisfied: urllib3>=1.25 in c:\\users\\st124\\onedrive\\desktop\\nlp_a3\\.venv\\lib\\site-packages (from torchdata==0.7.1->torchtext==0.17.0) (2.3.0)\n",
      "Requirement already satisfied: pillow!=8.3.*,>=5.3.0 in c:\\users\\st124\\onedrive\\desktop\\nlp_a3\\.venv\\lib\\site-packages (from torchvision) (11.1.0)\n",
      "Requirement already satisfied: MarkupSafe>=2.0 in c:\\users\\st124\\onedrive\\desktop\\nlp_a3\\.venv\\lib\\site-packages (from jinja2->torch==2.2.0) (3.0.2)\n",
      "Requirement already satisfied: charset-normalizer<4,>=2 in c:\\users\\st124\\onedrive\\desktop\\nlp_a3\\.venv\\lib\\site-packages (from requests->torchtext==0.17.0) (3.4.1)\n",
      "Requirement already satisfied: idna<4,>=2.5 in c:\\users\\st124\\onedrive\\desktop\\nlp_a3\\.venv\\lib\\site-packages (from requests->torchtext==0.17.0) (3.10)\n",
      "Requirement already satisfied: certifi>=2017.4.17 in c:\\users\\st124\\onedrive\\desktop\\nlp_a3\\.venv\\lib\\site-packages (from requests->torchtext==0.17.0) (2024.12.14)\n",
      "Requirement already satisfied: mpmath<1.4,>=1.1.0 in c:\\users\\st124\\onedrive\\desktop\\nlp_a3\\.venv\\lib\\site-packages (from sympy->torch==2.2.0) (1.3.0)\n",
      "Requirement already satisfied: colorama in c:\\users\\st124\\onedrive\\desktop\\nlp_a3\\.venv\\lib\\site-packages (from tqdm->torchtext==0.17.0) (0.4.6)\n",
      "Note: you may need to restart the kernel to use updated packages.\n"
     ]
    },
    {
     "name": "stderr",
     "output_type": "stream",
     "text": [
      "DEPRECATION: Loading egg at c:\\users\\st124\\onedrive\\desktop\\nlp_a3\\.venv\\lib\\site-packages\\pyidaungsu-0.1.4-py3.11.egg is deprecated. pip 25.1 will enforce this behaviour change. A possible replacement is to use pip for package installation. Discussion can be found at https://github.com/pypa/pip/issues/12330\n"
     ]
    }
   ],
   "source": [
    "pip install torch==2.2.0 torchvision torchaudio torchtext==0.17.0 --index-url https://download.pytorch.org/whl/cu118\n"
   ]
  },
  {
   "cell_type": "code",
   "execution_count": 64,
   "metadata": {},
   "outputs": [
    {
     "name": "stdout",
     "output_type": "stream",
     "text": [
      "Requirement already satisfied: numpy==1.26.4 in c:\\users\\st124\\onedrive\\desktop\\nlp_a3\\.venv\\lib\\site-packages (1.26.4)\n",
      "Note: you may need to restart the kernel to use updated packages.\n"
     ]
    },
    {
     "name": "stderr",
     "output_type": "stream",
     "text": [
      "DEPRECATION: Loading egg at c:\\users\\st124\\onedrive\\desktop\\nlp_a3\\.venv\\lib\\site-packages\\pyidaungsu-0.1.4-py3.11.egg is deprecated. pip 25.1 will enforce this behaviour change. A possible replacement is to use pip for package installation. Discussion can be found at https://github.com/pypa/pip/issues/12330\n"
     ]
    }
   ],
   "source": [
    "pip install numpy==1.26.4"
   ]
  },
  {
   "cell_type": "code",
   "execution_count": 65,
   "metadata": {},
   "outputs": [
    {
     "name": "stdout",
     "output_type": "stream",
     "text": [
      "Requirement already satisfied: matplotlib in c:\\users\\st124\\onedrive\\desktop\\nlp_a3\\.venv\\lib\\site-packages (3.10.0)\n",
      "Requirement already satisfied: contourpy>=1.0.1 in c:\\users\\st124\\onedrive\\desktop\\nlp_a3\\.venv\\lib\\site-packages (from matplotlib) (1.3.1)\n",
      "Requirement already satisfied: cycler>=0.10 in c:\\users\\st124\\onedrive\\desktop\\nlp_a3\\.venv\\lib\\site-packages (from matplotlib) (0.12.1)\n",
      "Requirement already satisfied: fonttools>=4.22.0 in c:\\users\\st124\\onedrive\\desktop\\nlp_a3\\.venv\\lib\\site-packages (from matplotlib) (4.55.8)\n",
      "Requirement already satisfied: kiwisolver>=1.3.1 in c:\\users\\st124\\onedrive\\desktop\\nlp_a3\\.venv\\lib\\site-packages (from matplotlib) (1.4.8)\n",
      "Requirement already satisfied: numpy>=1.23 in c:\\users\\st124\\onedrive\\desktop\\nlp_a3\\.venv\\lib\\site-packages (from matplotlib) (1.26.4)\n",
      "Requirement already satisfied: packaging>=20.0 in c:\\users\\st124\\onedrive\\desktop\\nlp_a3\\.venv\\lib\\site-packages (from matplotlib) (24.2)\n",
      "Requirement already satisfied: pillow>=8 in c:\\users\\st124\\onedrive\\desktop\\nlp_a3\\.venv\\lib\\site-packages (from matplotlib) (11.1.0)\n",
      "Requirement already satisfied: pyparsing>=2.3.1 in c:\\users\\st124\\onedrive\\desktop\\nlp_a3\\.venv\\lib\\site-packages (from matplotlib) (3.2.1)\n",
      "Requirement already satisfied: python-dateutil>=2.7 in c:\\users\\st124\\onedrive\\desktop\\nlp_a3\\.venv\\lib\\site-packages (from matplotlib) (2.9.0.post0)\n",
      "Requirement already satisfied: six>=1.5 in c:\\users\\st124\\onedrive\\desktop\\nlp_a3\\.venv\\lib\\site-packages (from python-dateutil>=2.7->matplotlib) (1.17.0)\n",
      "Note: you may need to restart the kernel to use updated packages.\n"
     ]
    },
    {
     "name": "stderr",
     "output_type": "stream",
     "text": [
      "DEPRECATION: Loading egg at c:\\users\\st124\\onedrive\\desktop\\nlp_a3\\.venv\\lib\\site-packages\\pyidaungsu-0.1.4-py3.11.egg is deprecated. pip 25.1 will enforce this behaviour change. A possible replacement is to use pip for package installation. Discussion can be found at https://github.com/pypa/pip/issues/12330\n"
     ]
    }
   ],
   "source": [
    "pip install matplotlib"
   ]
  },
  {
   "cell_type": "code",
   "execution_count": 66,
   "metadata": {},
   "outputs": [
    {
     "name": "stdout",
     "output_type": "stream",
     "text": [
      "Requirement already satisfied: spacy==3.5.0 in c:\\users\\st124\\onedrive\\desktop\\nlp_a3\\.venv\\lib\\site-packages (3.5.0)\n",
      "Requirement already satisfied: spacy-legacy<3.1.0,>=3.0.11 in c:\\users\\st124\\onedrive\\desktop\\nlp_a3\\.venv\\lib\\site-packages (from spacy==3.5.0) (3.0.12)\n",
      "Requirement already satisfied: spacy-loggers<2.0.0,>=1.0.0 in c:\\users\\st124\\onedrive\\desktop\\nlp_a3\\.venv\\lib\\site-packages (from spacy==3.5.0) (1.0.5)\n",
      "Requirement already satisfied: murmurhash<1.1.0,>=0.28.0 in c:\\users\\st124\\onedrive\\desktop\\nlp_a3\\.venv\\lib\\site-packages (from spacy==3.5.0) (1.0.12)\n",
      "Requirement already satisfied: cymem<2.1.0,>=2.0.2 in c:\\users\\st124\\onedrive\\desktop\\nlp_a3\\.venv\\lib\\site-packages (from spacy==3.5.0) (2.0.11)\n",
      "Requirement already satisfied: preshed<3.1.0,>=3.0.2 in c:\\users\\st124\\onedrive\\desktop\\nlp_a3\\.venv\\lib\\site-packages (from spacy==3.5.0) (3.0.9)\n",
      "Requirement already satisfied: thinc<8.2.0,>=8.1.0 in c:\\users\\st124\\onedrive\\desktop\\nlp_a3\\.venv\\lib\\site-packages (from spacy==3.5.0) (8.1.12)\n",
      "Requirement already satisfied: wasabi<1.2.0,>=0.9.1 in c:\\users\\st124\\onedrive\\desktop\\nlp_a3\\.venv\\lib\\site-packages (from spacy==3.5.0) (1.1.3)\n",
      "Requirement already satisfied: srsly<3.0.0,>=2.4.3 in c:\\users\\st124\\onedrive\\desktop\\nlp_a3\\.venv\\lib\\site-packages (from spacy==3.5.0) (2.5.1)\n",
      "Requirement already satisfied: catalogue<2.1.0,>=2.0.6 in c:\\users\\st124\\onedrive\\desktop\\nlp_a3\\.venv\\lib\\site-packages (from spacy==3.5.0) (2.0.10)\n",
      "Requirement already satisfied: typer<0.8.0,>=0.3.0 in c:\\users\\st124\\onedrive\\desktop\\nlp_a3\\.venv\\lib\\site-packages (from spacy==3.5.0) (0.7.0)\n",
      "Requirement already satisfied: pathy>=0.10.0 in c:\\users\\st124\\onedrive\\desktop\\nlp_a3\\.venv\\lib\\site-packages (from spacy==3.5.0) (0.11.0)\n",
      "Requirement already satisfied: smart-open<7.0.0,>=5.2.1 in c:\\users\\st124\\onedrive\\desktop\\nlp_a3\\.venv\\lib\\site-packages (from spacy==3.5.0) (6.4.0)\n",
      "Requirement already satisfied: tqdm<5.0.0,>=4.38.0 in c:\\users\\st124\\onedrive\\desktop\\nlp_a3\\.venv\\lib\\site-packages (from spacy==3.5.0) (4.67.1)\n",
      "Requirement already satisfied: numpy>=1.15.0 in c:\\users\\st124\\onedrive\\desktop\\nlp_a3\\.venv\\lib\\site-packages (from spacy==3.5.0) (1.26.4)\n",
      "Requirement already satisfied: requests<3.0.0,>=2.13.0 in c:\\users\\st124\\onedrive\\desktop\\nlp_a3\\.venv\\lib\\site-packages (from spacy==3.5.0) (2.32.3)\n",
      "Requirement already satisfied: pydantic!=1.8,!=1.8.1,<1.11.0,>=1.7.4 in c:\\users\\st124\\onedrive\\desktop\\nlp_a3\\.venv\\lib\\site-packages (from spacy==3.5.0) (1.10.21)\n",
      "Requirement already satisfied: jinja2 in c:\\users\\st124\\onedrive\\desktop\\nlp_a3\\.venv\\lib\\site-packages (from spacy==3.5.0) (3.1.5)\n",
      "Requirement already satisfied: setuptools in c:\\users\\st124\\onedrive\\desktop\\nlp_a3\\.venv\\lib\\site-packages (from spacy==3.5.0) (75.8.0)\n",
      "Requirement already satisfied: packaging>=20.0 in c:\\users\\st124\\onedrive\\desktop\\nlp_a3\\.venv\\lib\\site-packages (from spacy==3.5.0) (24.2)\n",
      "Requirement already satisfied: langcodes<4.0.0,>=3.2.0 in c:\\users\\st124\\onedrive\\desktop\\nlp_a3\\.venv\\lib\\site-packages (from spacy==3.5.0) (3.5.0)\n",
      "Requirement already satisfied: language-data>=1.2 in c:\\users\\st124\\onedrive\\desktop\\nlp_a3\\.venv\\lib\\site-packages (from langcodes<4.0.0,>=3.2.0->spacy==3.5.0) (1.3.0)\n",
      "Requirement already satisfied: pathlib-abc==0.1.1 in c:\\users\\st124\\onedrive\\desktop\\nlp_a3\\.venv\\lib\\site-packages (from pathy>=0.10.0->spacy==3.5.0) (0.1.1)\n",
      "Requirement already satisfied: typing-extensions>=4.2.0 in c:\\users\\st124\\onedrive\\desktop\\nlp_a3\\.venv\\lib\\site-packages (from pydantic!=1.8,!=1.8.1,<1.11.0,>=1.7.4->spacy==3.5.0) (4.12.2)\n",
      "Requirement already satisfied: charset-normalizer<4,>=2 in c:\\users\\st124\\onedrive\\desktop\\nlp_a3\\.venv\\lib\\site-packages (from requests<3.0.0,>=2.13.0->spacy==3.5.0) (3.4.1)\n",
      "Requirement already satisfied: idna<4,>=2.5 in c:\\users\\st124\\onedrive\\desktop\\nlp_a3\\.venv\\lib\\site-packages (from requests<3.0.0,>=2.13.0->spacy==3.5.0) (3.10)\n",
      "Requirement already satisfied: urllib3<3,>=1.21.1 in c:\\users\\st124\\onedrive\\desktop\\nlp_a3\\.venv\\lib\\site-packages (from requests<3.0.0,>=2.13.0->spacy==3.5.0) (2.3.0)\n",
      "Requirement already satisfied: certifi>=2017.4.17 in c:\\users\\st124\\onedrive\\desktop\\nlp_a3\\.venv\\lib\\site-packages (from requests<3.0.0,>=2.13.0->spacy==3.5.0) (2024.12.14)\n",
      "Requirement already satisfied: blis<0.8.0,>=0.7.8 in c:\\users\\st124\\onedrive\\desktop\\nlp_a3\\.venv\\lib\\site-packages (from thinc<8.2.0,>=8.1.0->spacy==3.5.0) (0.7.11)\n",
      "Requirement already satisfied: confection<1.0.0,>=0.0.1 in c:\\users\\st124\\onedrive\\desktop\\nlp_a3\\.venv\\lib\\site-packages (from thinc<8.2.0,>=8.1.0->spacy==3.5.0) (0.1.5)\n",
      "Requirement already satisfied: colorama in c:\\users\\st124\\onedrive\\desktop\\nlp_a3\\.venv\\lib\\site-packages (from tqdm<5.0.0,>=4.38.0->spacy==3.5.0) (0.4.6)\n",
      "Requirement already satisfied: click<9.0.0,>=7.1.1 in c:\\users\\st124\\onedrive\\desktop\\nlp_a3\\.venv\\lib\\site-packages (from typer<0.8.0,>=0.3.0->spacy==3.5.0) (8.1.8)\n",
      "Requirement already satisfied: MarkupSafe>=2.0 in c:\\users\\st124\\onedrive\\desktop\\nlp_a3\\.venv\\lib\\site-packages (from jinja2->spacy==3.5.0) (3.0.2)\n",
      "Requirement already satisfied: marisa-trie>=1.1.0 in c:\\users\\st124\\onedrive\\desktop\\nlp_a3\\.venv\\lib\\site-packages (from language-data>=1.2->langcodes<4.0.0,>=3.2.0->spacy==3.5.0) (1.2.1)\n",
      "Note: you may need to restart the kernel to use updated packages.\n"
     ]
    },
    {
     "name": "stderr",
     "output_type": "stream",
     "text": [
      "DEPRECATION: Loading egg at c:\\users\\st124\\onedrive\\desktop\\nlp_a3\\.venv\\lib\\site-packages\\pyidaungsu-0.1.4-py3.11.egg is deprecated. pip 25.1 will enforce this behaviour change. A possible replacement is to use pip for package installation. Discussion can be found at https://github.com/pypa/pip/issues/12330\n"
     ]
    }
   ],
   "source": [
    "pip install spacy==3.5.0"
   ]
  },
  {
   "cell_type": "code",
   "execution_count": 67,
   "metadata": {},
   "outputs": [
    {
     "name": "stdout",
     "output_type": "stream",
     "text": [
      "Requirement already satisfied: datasets in c:\\users\\st124\\onedrive\\desktop\\nlp_a3\\.venv\\lib\\site-packages (3.2.0)Note: you may need to restart the kernel to use updated packages.\n",
      "\n",
      "Requirement already satisfied: filelock in c:\\users\\st124\\onedrive\\desktop\\nlp_a3\\.venv\\lib\\site-packages (from datasets) (3.17.0)\n",
      "Requirement already satisfied: numpy>=1.17 in c:\\users\\st124\\onedrive\\desktop\\nlp_a3\\.venv\\lib\\site-packages (from datasets) (1.26.4)\n",
      "Requirement already satisfied: pyarrow>=15.0.0 in c:\\users\\st124\\onedrive\\desktop\\nlp_a3\\.venv\\lib\\site-packages (from datasets) (19.0.0)\n",
      "Requirement already satisfied: dill<0.3.9,>=0.3.0 in c:\\users\\st124\\onedrive\\desktop\\nlp_a3\\.venv\\lib\\site-packages (from datasets) (0.3.8)\n",
      "Requirement already satisfied: pandas in c:\\users\\st124\\onedrive\\desktop\\nlp_a3\\.venv\\lib\\site-packages (from datasets) (2.2.3)\n",
      "Requirement already satisfied: requests>=2.32.2 in c:\\users\\st124\\onedrive\\desktop\\nlp_a3\\.venv\\lib\\site-packages (from datasets) (2.32.3)\n",
      "Requirement already satisfied: tqdm>=4.66.3 in c:\\users\\st124\\onedrive\\desktop\\nlp_a3\\.venv\\lib\\site-packages (from datasets) (4.67.1)\n",
      "Requirement already satisfied: xxhash in c:\\users\\st124\\onedrive\\desktop\\nlp_a3\\.venv\\lib\\site-packages (from datasets) (3.5.0)\n",
      "Requirement already satisfied: multiprocess<0.70.17 in c:\\users\\st124\\onedrive\\desktop\\nlp_a3\\.venv\\lib\\site-packages (from datasets) (0.70.16)\n",
      "Requirement already satisfied: fsspec<=2024.9.0,>=2023.1.0 in c:\\users\\st124\\onedrive\\desktop\\nlp_a3\\.venv\\lib\\site-packages (from fsspec[http]<=2024.9.0,>=2023.1.0->datasets) (2024.9.0)\n",
      "Requirement already satisfied: aiohttp in c:\\users\\st124\\onedrive\\desktop\\nlp_a3\\.venv\\lib\\site-packages (from datasets) (3.11.11)\n",
      "Requirement already satisfied: huggingface-hub>=0.23.0 in c:\\users\\st124\\onedrive\\desktop\\nlp_a3\\.venv\\lib\\site-packages (from datasets) (0.28.1)\n",
      "Requirement already satisfied: packaging in c:\\users\\st124\\onedrive\\desktop\\nlp_a3\\.venv\\lib\\site-packages (from datasets) (24.2)\n",
      "Requirement already satisfied: pyyaml>=5.1 in c:\\users\\st124\\onedrive\\desktop\\nlp_a3\\.venv\\lib\\site-packages (from datasets) (6.0.2)\n",
      "Requirement already satisfied: aiohappyeyeballs>=2.3.0 in c:\\users\\st124\\onedrive\\desktop\\nlp_a3\\.venv\\lib\\site-packages (from aiohttp->datasets) (2.4.4)\n",
      "Requirement already satisfied: aiosignal>=1.1.2 in c:\\users\\st124\\onedrive\\desktop\\nlp_a3\\.venv\\lib\\site-packages (from aiohttp->datasets) (1.3.2)\n",
      "Requirement already satisfied: attrs>=17.3.0 in c:\\users\\st124\\onedrive\\desktop\\nlp_a3\\.venv\\lib\\site-packages (from aiohttp->datasets) (25.1.0)\n",
      "Requirement already satisfied: frozenlist>=1.1.1 in c:\\users\\st124\\onedrive\\desktop\\nlp_a3\\.venv\\lib\\site-packages (from aiohttp->datasets) (1.5.0)\n",
      "Requirement already satisfied: multidict<7.0,>=4.5 in c:\\users\\st124\\onedrive\\desktop\\nlp_a3\\.venv\\lib\\site-packages (from aiohttp->datasets) (6.1.0)\n",
      "Requirement already satisfied: propcache>=0.2.0 in c:\\users\\st124\\onedrive\\desktop\\nlp_a3\\.venv\\lib\\site-packages (from aiohttp->datasets) (0.2.1)\n",
      "Requirement already satisfied: yarl<2.0,>=1.17.0 in c:\\users\\st124\\onedrive\\desktop\\nlp_a3\\.venv\\lib\\site-packages (from aiohttp->datasets) (1.18.3)\n",
      "Requirement already satisfied: typing-extensions>=3.7.4.3 in c:\\users\\st124\\onedrive\\desktop\\nlp_a3\\.venv\\lib\\site-packages (from huggingface-hub>=0.23.0->datasets) (4.12.2)\n",
      "Requirement already satisfied: charset-normalizer<4,>=2 in c:\\users\\st124\\onedrive\\desktop\\nlp_a3\\.venv\\lib\\site-packages (from requests>=2.32.2->datasets) (3.4.1)\n",
      "Requirement already satisfied: idna<4,>=2.5 in c:\\users\\st124\\onedrive\\desktop\\nlp_a3\\.venv\\lib\\site-packages (from requests>=2.32.2->datasets) (3.10)\n",
      "Requirement already satisfied: urllib3<3,>=1.21.1 in c:\\users\\st124\\onedrive\\desktop\\nlp_a3\\.venv\\lib\\site-packages (from requests>=2.32.2->datasets) (2.3.0)\n",
      "Requirement already satisfied: certifi>=2017.4.17 in c:\\users\\st124\\onedrive\\desktop\\nlp_a3\\.venv\\lib\\site-packages (from requests>=2.32.2->datasets) (2024.12.14)\n",
      "Requirement already satisfied: colorama in c:\\users\\st124\\onedrive\\desktop\\nlp_a3\\.venv\\lib\\site-packages (from tqdm>=4.66.3->datasets) (0.4.6)\n",
      "Requirement already satisfied: python-dateutil>=2.8.2 in c:\\users\\st124\\onedrive\\desktop\\nlp_a3\\.venv\\lib\\site-packages (from pandas->datasets) (2.9.0.post0)\n",
      "Requirement already satisfied: pytz>=2020.1 in c:\\users\\st124\\onedrive\\desktop\\nlp_a3\\.venv\\lib\\site-packages (from pandas->datasets) (2024.2)\n",
      "Requirement already satisfied: tzdata>=2022.7 in c:\\users\\st124\\onedrive\\desktop\\nlp_a3\\.venv\\lib\\site-packages (from pandas->datasets) (2025.1)\n",
      "Requirement already satisfied: six>=1.5 in c:\\users\\st124\\onedrive\\desktop\\nlp_a3\\.venv\\lib\\site-packages (from python-dateutil>=2.8.2->pandas->datasets) (1.17.0)\n"
     ]
    },
    {
     "name": "stderr",
     "output_type": "stream",
     "text": [
      "DEPRECATION: Loading egg at c:\\users\\st124\\onedrive\\desktop\\nlp_a3\\.venv\\lib\\site-packages\\pyidaungsu-0.1.4-py3.11.egg is deprecated. pip 25.1 will enforce this behaviour change. A possible replacement is to use pip for package installation. Discussion can be found at https://github.com/pypa/pip/issues/12330\n"
     ]
    }
   ],
   "source": [
    "pip install datasets"
   ]
  },
  {
   "cell_type": "code",
   "execution_count": 68,
   "metadata": {},
   "outputs": [
    {
     "name": "stdout",
     "output_type": "stream",
     "text": [
      "Requirement already satisfied: huggingface_hub in c:\\users\\st124\\onedrive\\desktop\\nlp_a3\\.venv\\lib\\site-packages (0.28.1)\n",
      "Requirement already satisfied: datasets in c:\\users\\st124\\onedrive\\desktop\\nlp_a3\\.venv\\lib\\site-packages (3.2.0)\n",
      "Requirement already satisfied: pandas in c:\\users\\st124\\onedrive\\desktop\\nlp_a3\\.venv\\lib\\site-packages (2.2.3)\n",
      "Requirement already satisfied: filelock in c:\\users\\st124\\onedrive\\desktop\\nlp_a3\\.venv\\lib\\site-packages (from huggingface_hub) (3.17.0)\n",
      "Requirement already satisfied: fsspec>=2023.5.0 in c:\\users\\st124\\onedrive\\desktop\\nlp_a3\\.venv\\lib\\site-packages (from huggingface_hub) (2024.9.0)\n",
      "Requirement already satisfied: packaging>=20.9 in c:\\users\\st124\\onedrive\\desktop\\nlp_a3\\.venv\\lib\\site-packages (from huggingface_hub) (24.2)\n",
      "Requirement already satisfied: pyyaml>=5.1 in c:\\users\\st124\\onedrive\\desktop\\nlp_a3\\.venv\\lib\\site-packages (from huggingface_hub) (6.0.2)\n",
      "Requirement already satisfied: requests in c:\\users\\st124\\onedrive\\desktop\\nlp_a3\\.venv\\lib\\site-packages (from huggingface_hub) (2.32.3)\n",
      "Requirement already satisfied: tqdm>=4.42.1 in c:\\users\\st124\\onedrive\\desktop\\nlp_a3\\.venv\\lib\\site-packages (from huggingface_hub) (4.67.1)\n",
      "Requirement already satisfied: typing-extensions>=3.7.4.3 in c:\\users\\st124\\onedrive\\desktop\\nlp_a3\\.venv\\lib\\site-packages (from huggingface_hub) (4.12.2)\n",
      "Requirement already satisfied: numpy>=1.17 in c:\\users\\st124\\onedrive\\desktop\\nlp_a3\\.venv\\lib\\site-packages (from datasets) (1.26.4)\n",
      "Requirement already satisfied: pyarrow>=15.0.0 in c:\\users\\st124\\onedrive\\desktop\\nlp_a3\\.venv\\lib\\site-packages (from datasets) (19.0.0)\n",
      "Requirement already satisfied: dill<0.3.9,>=0.3.0 in c:\\users\\st124\\onedrive\\desktop\\nlp_a3\\.venv\\lib\\site-packages (from datasets) (0.3.8)\n",
      "Requirement already satisfied: xxhash in c:\\users\\st124\\onedrive\\desktop\\nlp_a3\\.venv\\lib\\site-packages (from datasets) (3.5.0)\n",
      "Requirement already satisfied: multiprocess<0.70.17 in c:\\users\\st124\\onedrive\\desktop\\nlp_a3\\.venv\\lib\\site-packages (from datasets) (0.70.16)\n",
      "Requirement already satisfied: aiohttp in c:\\users\\st124\\onedrive\\desktop\\nlp_a3\\.venv\\lib\\site-packages (from datasets) (3.11.11)\n",
      "Requirement already satisfied: python-dateutil>=2.8.2 in c:\\users\\st124\\onedrive\\desktop\\nlp_a3\\.venv\\lib\\site-packages (from pandas) (2.9.0.post0)\n",
      "Requirement already satisfied: pytz>=2020.1 in c:\\users\\st124\\onedrive\\desktop\\nlp_a3\\.venv\\lib\\site-packages (from pandas) (2024.2)\n",
      "Requirement already satisfied: tzdata>=2022.7 in c:\\users\\st124\\onedrive\\desktop\\nlp_a3\\.venv\\lib\\site-packages (from pandas) (2025.1)\n",
      "Requirement already satisfied: aiohappyeyeballs>=2.3.0 in c:\\users\\st124\\onedrive\\desktop\\nlp_a3\\.venv\\lib\\site-packages (from aiohttp->datasets) (2.4.4)\n",
      "Requirement already satisfied: aiosignal>=1.1.2 in c:\\users\\st124\\onedrive\\desktop\\nlp_a3\\.venv\\lib\\site-packages (from aiohttp->datasets) (1.3.2)\n",
      "Requirement already satisfied: attrs>=17.3.0 in c:\\users\\st124\\onedrive\\desktop\\nlp_a3\\.venv\\lib\\site-packages (from aiohttp->datasets) (25.1.0)\n",
      "Requirement already satisfied: frozenlist>=1.1.1 in c:\\users\\st124\\onedrive\\desktop\\nlp_a3\\.venv\\lib\\site-packages (from aiohttp->datasets) (1.5.0)\n",
      "Requirement already satisfied: multidict<7.0,>=4.5 in c:\\users\\st124\\onedrive\\desktop\\nlp_a3\\.venv\\lib\\site-packages (from aiohttp->datasets) (6.1.0)\n",
      "Requirement already satisfied: propcache>=0.2.0 in c:\\users\\st124\\onedrive\\desktop\\nlp_a3\\.venv\\lib\\site-packages (from aiohttp->datasets) (0.2.1)\n",
      "Requirement already satisfied: yarl<2.0,>=1.17.0 in c:\\users\\st124\\onedrive\\desktop\\nlp_a3\\.venv\\lib\\site-packages (from aiohttp->datasets) (1.18.3)\n",
      "Requirement already satisfied: six>=1.5 in c:\\users\\st124\\onedrive\\desktop\\nlp_a3\\.venv\\lib\\site-packages (from python-dateutil>=2.8.2->pandas) (1.17.0)\n",
      "Requirement already satisfied: charset-normalizer<4,>=2 in c:\\users\\st124\\onedrive\\desktop\\nlp_a3\\.venv\\lib\\site-packages (from requests->huggingface_hub) (3.4.1)\n",
      "Requirement already satisfied: idna<4,>=2.5 in c:\\users\\st124\\onedrive\\desktop\\nlp_a3\\.venv\\lib\\site-packages (from requests->huggingface_hub) (3.10)\n",
      "Requirement already satisfied: urllib3<3,>=1.21.1 in c:\\users\\st124\\onedrive\\desktop\\nlp_a3\\.venv\\lib\\site-packages (from requests->huggingface_hub) (2.3.0)\n",
      "Requirement already satisfied: certifi>=2017.4.17 in c:\\users\\st124\\onedrive\\desktop\\nlp_a3\\.venv\\lib\\site-packages (from requests->huggingface_hub) (2024.12.14)\n",
      "Requirement already satisfied: colorama in c:\\users\\st124\\onedrive\\desktop\\nlp_a3\\.venv\\lib\\site-packages (from tqdm>=4.42.1->huggingface_hub) (0.4.6)\n",
      "Note: you may need to restart the kernel to use updated packages.\n"
     ]
    },
    {
     "name": "stderr",
     "output_type": "stream",
     "text": [
      "DEPRECATION: Loading egg at c:\\users\\st124\\onedrive\\desktop\\nlp_a3\\.venv\\lib\\site-packages\\pyidaungsu-0.1.4-py3.11.egg is deprecated. pip 25.1 will enforce this behaviour change. A possible replacement is to use pip for package installation. Discussion can be found at https://github.com/pypa/pip/issues/12330\n"
     ]
    }
   ],
   "source": [
    "pip install huggingface_hub datasets pandas\n"
   ]
  },
  {
   "cell_type": "code",
   "execution_count": 1,
   "metadata": {},
   "outputs": [
    {
     "name": "stdout",
     "output_type": "stream",
     "text": [
      "Requirement already satisfied: wordcutpy in c:\\users\\st124\\onedrive\\desktop\\nlp_a3\\.venv\\lib\\site-packages (0.1.3)\n",
      "Note: you may need to restart the kernel to use updated packages.\n"
     ]
    },
    {
     "name": "stderr",
     "output_type": "stream",
     "text": [
      "DEPRECATION: Loading egg at c:\\users\\st124\\onedrive\\desktop\\nlp_a3\\.venv\\lib\\site-packages\\pyidaungsu-0.1.4-py3.11.egg is deprecated. pip 25.1 will enforce this behaviour change. A possible replacement is to use pip for package installation. Discussion can be found at https://github.com/pypa/pip/issues/12330\n"
     ]
    }
   ],
   "source": [
    "pip install wordcutpy"
   ]
  },
  {
   "cell_type": "code",
   "execution_count": 2,
   "metadata": {},
   "outputs": [
    {
     "name": "stderr",
     "output_type": "stream",
     "text": [
      "c:\\Users\\st124\\OneDrive\\Desktop\\NLP_A3\\.venv\\Lib\\site-packages\\tqdm\\auto.py:21: TqdmWarning: IProgress not found. Please update jupyter and ipywidgets. See https://ipywidgets.readthedocs.io/en/stable/user_install.html\n",
      "  from .autonotebook import tqdm as notebook_tqdm\n"
     ]
    },
    {
     "name": "stdout",
     "output_type": "stream",
     "text": [
      "cuda\n"
     ]
    }
   ],
   "source": [
    "import torch, torchdata, torchtext\n",
    "from torch import nn\n",
    "import torch.nn.functional as F\n",
    "\n",
    "import random, math, time\n",
    "import datasets\n",
    "import matplotlib.pyplot as plt\n",
    "import torch.optim as optim\n",
    "\n",
    "# Set device as GPU if available, else set to CPU\n",
    "device = torch.device('cuda' if torch.cuda.is_available() else 'cpu')\n",
    "# device = 'cpu'\n",
    "print(device)\n",
    "\n",
    "#make our work comparable if restarted the kernel\n",
    "SEED = 1234\n",
    "torch.manual_seed(SEED)\n",
    "torch.backends.cudnn.deterministic = True"
   ]
  },
  {
   "cell_type": "code",
   "execution_count": 3,
   "metadata": {},
   "outputs": [
    {
     "data": {
      "text/plain": [
       "'2.2.0+cu118'"
      ]
     },
     "execution_count": 3,
     "metadata": {},
     "output_type": "execute_result"
    }
   ],
   "source": [
    "torch.__version__"
   ]
  },
  {
   "cell_type": "code",
   "execution_count": 4,
   "metadata": {},
   "outputs": [
    {
     "data": {
      "text/plain": [
       "'0.17.0+cpu'"
      ]
     },
     "execution_count": 4,
     "metadata": {},
     "output_type": "execute_result"
    }
   ],
   "source": [
    "torchtext.__version__"
   ]
  },
  {
   "cell_type": "markdown",
   "metadata": {},
   "source": [
    "# 1. ETL: Loading dataset"
   ]
  },
  {
   "cell_type": "code",
   "execution_count": 3,
   "metadata": {},
   "outputs": [],
   "source": [
    "import datasets,torchtext\n",
    "\n",
    "SRC_LANGUAGE = 'en' # English\n",
    "TRG_LANGUAGE = 'my' # Myanmar\n",
    "\n",
    "dataset = datasets.load_dataset('myothiha/mm_eng_alt_corpus')"
   ]
  },
  {
   "cell_type": "code",
   "execution_count": 4,
   "metadata": {},
   "outputs": [
    {
     "data": {
      "text/plain": [
       "DatasetDict({\n",
       "    train: Dataset({\n",
       "        features: ['Unnamed: 0', 'en', 'my'],\n",
       "        num_rows: 16280\n",
       "    })\n",
       "    validation: Dataset({\n",
       "        features: ['Unnamed: 0', 'en', 'my'],\n",
       "        num_rows: 1809\n",
       "    })\n",
       "    test: Dataset({\n",
       "        features: ['Unnamed: 0', 'en', 'my'],\n",
       "        num_rows: 2010\n",
       "    })\n",
       "})"
      ]
     },
     "execution_count": 4,
     "metadata": {},
     "output_type": "execute_result"
    }
   ],
   "source": [
    "dataset"
   ]
  },
  {
   "cell_type": "code",
   "execution_count": 5,
   "metadata": {},
   "outputs": [],
   "source": [
    "train = [(row['en'], row['my']) for row in dataset['train']]"
   ]
  },
  {
   "cell_type": "code",
   "execution_count": 6,
   "metadata": {},
   "outputs": [
    {
     "name": "stdout",
     "output_type": "stream",
     "text": [
      "dict_keys(['train', 'validation', 'test'])\n"
     ]
    }
   ],
   "source": [
    "print(dataset.keys())  # Should return: dict_keys(['train', 'validation', 'test'])"
   ]
  },
  {
   "cell_type": "code",
   "execution_count": 7,
   "metadata": {},
   "outputs": [
    {
     "name": "stdout",
     "output_type": "stream",
     "text": [
      "Dataset({\n",
      "    features: ['Unnamed: 0', 'en', 'my'],\n",
      "    num_rows: 16280\n",
      "})\n",
      "Dataset({\n",
      "    features: ['Unnamed: 0', 'en', 'my'],\n",
      "    num_rows: 2010\n",
      "})\n",
      "Dataset({\n",
      "    features: ['Unnamed: 0', 'en', 'my'],\n",
      "    num_rows: 1809\n",
      "})\n"
     ]
    }
   ],
   "source": [
    "train_data = dataset[\"train\"]  # Access the training set\n",
    "print(train_data)\n",
    "\n",
    "#also check for the test and validation data\n",
    "test_data = dataset[\"test\"]  # Access the test set\n",
    "print(test_data)\n",
    "\n",
    "validation_data = dataset[\"validation\"]  # Access the validation set\n",
    "print(validation_data)"
   ]
  },
  {
   "cell_type": "code",
   "execution_count": 8,
   "metadata": {},
   "outputs": [],
   "source": [
    "#drop the columns that are not needed\n",
    "train_data = train_data.remove_columns([\"Unnamed: 0\"]) \n",
    "test_data = test_data.remove_columns([\"Unnamed: 0\"])\n",
    "validation_data = validation_data.remove_columns([\"Unnamed: 0\"])"
   ]
  },
  {
   "cell_type": "code",
   "execution_count": 9,
   "metadata": {},
   "outputs": [],
   "source": [
    "# Convert each dataset split into a list of (English, Myanmar) sentence pairs\n",
    "train_data = [(row[\"en\"], row[\"my\"]) for row in dataset[\"train\"]]\n",
    "test_data = [(row[\"en\"], row[\"my\"]) for row in dataset[\"test\"]]\n",
    "validation_data = [(row[\"en\"], row[\"my\"]) for row in dataset[\"validation\"]]"
   ]
  },
  {
   "cell_type": "code",
   "execution_count": 10,
   "metadata": {},
   "outputs": [
    {
     "data": {
      "text/plain": [
       "('Prime Minister Stephen Harper urged Canadians to pay tribute to the soldiers and aid workers in Afghanistan.',\n",
       " 'ဝန်ကြီးချုပ် စတီဖန် ဟာပါ သည် အာဖကန်နစ္စတန် ရှိ စစ်သား များ နှင့် ပရဟိတ ဆောင်ရွက်ပေးနေသူ များ ကို ချီးကျူး ဂုဏ်ပြုခြင်း ပြုလုပ် ပေး ရန် ကနေဒါ လူမျိုး များ ကို တိုက်တွန်း ခဲ့ ပါ သည် ။')"
      ]
     },
     "execution_count": 10,
     "metadata": {},
     "output_type": "execute_result"
    }
   ],
   "source": [
    "train_data[1]"
   ]
  },
  {
   "cell_type": "markdown",
   "metadata": {},
   "source": [
    "# 2. EDA-Data Preparation"
   ]
  },
  {
   "cell_type": "markdown",
   "metadata": {},
   "source": [
    "## Tokenization, Data Processing"
   ]
  },
  {
   "cell_type": "code",
   "execution_count": 11,
   "metadata": {},
   "outputs": [
    {
     "name": "stdout",
     "output_type": "stream",
     "text": [
      "Requirement already satisfied: sentencepiece in c:\\users\\st124\\onedrive\\desktop\\nlp_a3\\.venv\\lib\\site-packages (0.2.0)\n",
      "Note: you may need to restart the kernel to use updated packages.\n"
     ]
    },
    {
     "name": "stderr",
     "output_type": "stream",
     "text": [
      "DEPRECATION: Loading egg at c:\\users\\st124\\onedrive\\desktop\\nlp_a3\\.venv\\lib\\site-packages\\pyidaungsu-0.1.4-py3.11.egg is deprecated. pip 25.1 will enforce this behaviour change. A possible replacement is to use pip for package installation. Discussion can be found at https://github.com/pypa/pip/issues/12330\n"
     ]
    }
   ],
   "source": [
    "pip install sentencepiece"
   ]
  },
  {
   "cell_type": "code",
   "execution_count": 25,
   "metadata": {},
   "outputs": [
    {
     "name": "stdout",
     "output_type": "stream",
     "text": [
      "Requirement already satisfied: wordcutpy in c:\\users\\st124\\onedrive\\desktop\\nlp_a3\\.venv\\lib\\site-packages (0.1.3)\n",
      "Note: you may need to restart the kernel to use updated packages.\n"
     ]
    },
    {
     "name": "stderr",
     "output_type": "stream",
     "text": [
      "DEPRECATION: Loading egg at c:\\users\\st124\\onedrive\\desktop\\nlp_a3\\.venv\\lib\\site-packages\\pyidaungsu-0.1.4-py3.11.egg is deprecated. pip 25.1 will enforce this behaviour change. A possible replacement is to use pip for package installation. Discussion can be found at https://github.com/pypa/pip/issues/12330\n"
     ]
    }
   ],
   "source": [
    "pip install wordcutpy"
   ]
  },
  {
   "cell_type": "code",
   "execution_count": 12,
   "metadata": {},
   "outputs": [],
   "source": [
    "import wordcut\n",
    "import sentencepiece as spm\n",
    "import torch\n",
    "from torch.utils.data import DataLoader, Dataset"
   ]
  },
  {
   "cell_type": "code",
   "execution_count": 13,
   "metadata": {},
   "outputs": [
    {
     "data": {
      "text/plain": [
       "('Prime Minister Stephen Harper urged Canadians to pay tribute to the soldiers and aid workers in Afghanistan.',\n",
       " 'ဝန်ကြီးချုပ် စတီဖန် ဟာပါ သည် အာဖကန်နစ္စတန် ရှိ စစ်သား များ နှင့် ပရဟိတ ဆောင်ရွက်ပေးနေသူ များ ကို ချီးကျူး ဂုဏ်ပြုခြင်း ပြုလုပ် ပေး ရန် ကနေဒါ လူမျိုး များ ကို တိုက်တွန်း ခဲ့ ပါ သည် ။')"
      ]
     },
     "execution_count": 13,
     "metadata": {},
     "output_type": "execute_result"
    }
   ],
   "source": [
    "sample = train_data[1]\n",
    "sample"
   ]
  },
  {
   "cell_type": "code",
   "execution_count": 14,
   "metadata": {},
   "outputs": [
    {
     "name": "stdout",
     "output_type": "stream",
     "text": [
      "16280\n",
      "1809\n",
      "2010\n"
     ]
    }
   ],
   "source": [
    "train_size = len(train_data)\n",
    "print(train_size)\n",
    "\n",
    "val_size = len(validation_data)\n",
    "print(val_size)\n",
    "\n",
    "test_size = len(test_data)\n",
    "print(test_size)"
   ]
  },
  {
   "cell_type": "code",
   "execution_count": 2,
   "metadata": {},
   "outputs": [
    {
     "name": "stdout",
     "output_type": "stream",
     "text": [
      "Collecting transformers\n",
      "  Downloading transformers-4.48.2-py3-none-any.whl.metadata (44 kB)\n",
      "Requirement already satisfied: filelock in c:\\users\\st124\\onedrive\\desktop\\nlp_a3\\.venv\\lib\\site-packages (from transformers) (3.17.0)\n",
      "Requirement already satisfied: huggingface-hub<1.0,>=0.24.0 in c:\\users\\st124\\onedrive\\desktop\\nlp_a3\\.venv\\lib\\site-packages (from transformers) (0.28.1)\n",
      "Requirement already satisfied: numpy>=1.17 in c:\\users\\st124\\onedrive\\desktop\\nlp_a3\\.venv\\lib\\site-packages (from transformers) (1.26.4)\n",
      "Requirement already satisfied: packaging>=20.0 in c:\\users\\st124\\onedrive\\desktop\\nlp_a3\\.venv\\lib\\site-packages (from transformers) (24.2)\n",
      "Requirement already satisfied: pyyaml>=5.1 in c:\\users\\st124\\onedrive\\desktop\\nlp_a3\\.venv\\lib\\site-packages (from transformers) (6.0.2)\n",
      "Requirement already satisfied: regex!=2019.12.17 in c:\\users\\st124\\onedrive\\desktop\\nlp_a3\\.venv\\lib\\site-packages (from transformers) (2024.11.6)\n",
      "Requirement already satisfied: requests in c:\\users\\st124\\onedrive\\desktop\\nlp_a3\\.venv\\lib\\site-packages (from transformers) (2.32.3)\n",
      "Collecting tokenizers<0.22,>=0.21 (from transformers)\n",
      "  Downloading tokenizers-0.21.0-cp39-abi3-win_amd64.whl.metadata (6.9 kB)\n",
      "Collecting safetensors>=0.4.1 (from transformers)\n",
      "  Downloading safetensors-0.5.2-cp38-abi3-win_amd64.whl.metadata (3.9 kB)\n",
      "Requirement already satisfied: tqdm>=4.27 in c:\\users\\st124\\onedrive\\desktop\\nlp_a3\\.venv\\lib\\site-packages (from transformers) (4.67.1)\n",
      "Requirement already satisfied: fsspec>=2023.5.0 in c:\\users\\st124\\onedrive\\desktop\\nlp_a3\\.venv\\lib\\site-packages (from huggingface-hub<1.0,>=0.24.0->transformers) (2024.9.0)\n",
      "Requirement already satisfied: typing-extensions>=3.7.4.3 in c:\\users\\st124\\onedrive\\desktop\\nlp_a3\\.venv\\lib\\site-packages (from huggingface-hub<1.0,>=0.24.0->transformers) (4.12.2)\n",
      "Requirement already satisfied: colorama in c:\\users\\st124\\onedrive\\desktop\\nlp_a3\\.venv\\lib\\site-packages (from tqdm>=4.27->transformers) (0.4.6)\n",
      "Requirement already satisfied: charset-normalizer<4,>=2 in c:\\users\\st124\\onedrive\\desktop\\nlp_a3\\.venv\\lib\\site-packages (from requests->transformers) (3.4.1)\n",
      "Requirement already satisfied: idna<4,>=2.5 in c:\\users\\st124\\onedrive\\desktop\\nlp_a3\\.venv\\lib\\site-packages (from requests->transformers) (3.10)\n",
      "Requirement already satisfied: urllib3<3,>=1.21.1 in c:\\users\\st124\\onedrive\\desktop\\nlp_a3\\.venv\\lib\\site-packages (from requests->transformers) (2.3.0)\n",
      "Requirement already satisfied: certifi>=2017.4.17 in c:\\users\\st124\\onedrive\\desktop\\nlp_a3\\.venv\\lib\\site-packages (from requests->transformers) (2024.12.14)\n",
      "Downloading transformers-4.48.2-py3-none-any.whl (9.7 MB)\n",
      "   ---------------------------------------- 0.0/9.7 MB ? eta -:--:--\n",
      "   ------------------ --------------------- 4.5/9.7 MB 29.7 MB/s eta 0:00:01\n",
      "   ---------------------------------------- 9.7/9.7 MB 33.5 MB/s eta 0:00:00\n",
      "Downloading safetensors-0.5.2-cp38-abi3-win_amd64.whl (303 kB)\n",
      "Downloading tokenizers-0.21.0-cp39-abi3-win_amd64.whl (2.4 MB)\n",
      "   ---------------------------------------- 0.0/2.4 MB ? eta -:--:--\n",
      "   ---------------------------------------- 2.4/2.4 MB 68.6 MB/s eta 0:00:00\n",
      "Installing collected packages: safetensors, tokenizers, transformers\n",
      "Successfully installed safetensors-0.5.2 tokenizers-0.21.0 transformers-4.48.2\n",
      "Note: you may need to restart the kernel to use updated packages.\n"
     ]
    },
    {
     "name": "stderr",
     "output_type": "stream",
     "text": [
      "DEPRECATION: Loading egg at c:\\users\\st124\\onedrive\\desktop\\nlp_a3\\.venv\\lib\\site-packages\\pyidaungsu-0.1.4-py3.11.egg is deprecated. pip 25.1 will enforce this behaviour change. A possible replacement is to use pip for package installation. Discussion can be found at https://github.com/pypa/pip/issues/12330\n"
     ]
    }
   ],
   "source": [
    "pip install transformers"
   ]
  },
  {
   "cell_type": "code",
   "execution_count": 17,
   "metadata": {},
   "outputs": [],
   "source": [
    "from transformers import MBartTokenizer"
   ]
  },
  {
   "cell_type": "code",
   "execution_count": 18,
   "metadata": {},
   "outputs": [
    {
     "name": "stderr",
     "output_type": "stream",
     "text": [
      "The tokenizer class you load from this checkpoint is not the same type as the class this function is called from. It may result in unexpected tokenization. \n",
      "The tokenizer class you load from this checkpoint is 'MBart50Tokenizer'. \n",
      "The class this function is called from is 'MBartTokenizer'.\n"
     ]
    }
   ],
   "source": [
    "# Load MBart tokenizer (supports Myanmar translation)\n",
    "tokenizer = MBartTokenizer.from_pretrained(\"facebook/mbart-large-50\")"
   ]
  },
  {
   "cell_type": "code",
   "execution_count": 19,
   "metadata": {},
   "outputs": [
    {
     "name": "stdout",
     "output_type": "stream",
     "text": [
      "MBartTokenizer(name_or_path='facebook/mbart-large-50', vocab_size=250027, model_max_length=1024, is_fast=False, padding_side='right', truncation_side='right', special_tokens={'bos_token': '<s>', 'eos_token': '</s>', 'unk_token': '<unk>', 'sep_token': '</s>', 'pad_token': '<pad>', 'cls_token': '<s>', 'mask_token': '<mask>', 'additional_special_tokens': ['ar_AR', 'cs_CZ', 'de_DE', 'en_XX', 'es_XX', 'et_EE', 'fi_FI', 'fr_XX', 'gu_IN', 'hi_IN', 'it_IT', 'ja_XX', 'kk_KZ', 'ko_KR', 'lt_LT', 'lv_LV', 'my_MM', 'ne_NP', 'nl_XX', 'ro_RO', 'ru_RU', 'si_LK', 'tr_TR', 'vi_VN', 'zh_CN', 'af_ZA', 'az_AZ', 'bn_IN', 'fa_IR', 'he_IL', 'hr_HR', 'id_ID', 'ka_GE', 'km_KH', 'mk_MK', 'ml_IN', 'mn_MN', 'mr_IN', 'pl_PL', 'ps_AF', 'pt_XX', 'sv_SE', 'sw_KE', 'ta_IN', 'te_IN', 'th_TH', 'tl_XX', 'uk_UA', 'ur_PK', 'xh_ZA', 'gl_ES', 'sl_SI']}, clean_up_tokenization_spaces=False, added_tokens_decoder={\n",
      "\t0: AddedToken(\"<s>\", rstrip=False, lstrip=False, single_word=False, normalized=False, special=True),\n",
      "\t1: AddedToken(\"<pad>\", rstrip=False, lstrip=False, single_word=False, normalized=False, special=True),\n",
      "\t2: AddedToken(\"</s>\", rstrip=False, lstrip=False, single_word=False, normalized=False, special=True),\n",
      "\t3: AddedToken(\"<unk>\", rstrip=False, lstrip=False, single_word=False, normalized=False, special=True),\n",
      "\t250001: AddedToken(\"ar_AR\", rstrip=False, lstrip=False, single_word=False, normalized=False, special=True),\n",
      "\t250002: AddedToken(\"cs_CZ\", rstrip=False, lstrip=False, single_word=False, normalized=False, special=True),\n",
      "\t250003: AddedToken(\"de_DE\", rstrip=False, lstrip=False, single_word=False, normalized=False, special=True),\n",
      "\t250004: AddedToken(\"en_XX\", rstrip=False, lstrip=False, single_word=False, normalized=False, special=True),\n",
      "\t250005: AddedToken(\"es_XX\", rstrip=False, lstrip=False, single_word=False, normalized=False, special=True),\n",
      "\t250006: AddedToken(\"et_EE\", rstrip=False, lstrip=False, single_word=False, normalized=False, special=True),\n",
      "\t250007: AddedToken(\"fi_FI\", rstrip=False, lstrip=False, single_word=False, normalized=False, special=True),\n",
      "\t250008: AddedToken(\"fr_XX\", rstrip=False, lstrip=False, single_word=False, normalized=False, special=True),\n",
      "\t250009: AddedToken(\"gu_IN\", rstrip=False, lstrip=False, single_word=False, normalized=False, special=True),\n",
      "\t250010: AddedToken(\"hi_IN\", rstrip=False, lstrip=False, single_word=False, normalized=False, special=True),\n",
      "\t250011: AddedToken(\"it_IT\", rstrip=False, lstrip=False, single_word=False, normalized=False, special=True),\n",
      "\t250012: AddedToken(\"ja_XX\", rstrip=False, lstrip=False, single_word=False, normalized=False, special=True),\n",
      "\t250013: AddedToken(\"kk_KZ\", rstrip=False, lstrip=False, single_word=False, normalized=False, special=True),\n",
      "\t250014: AddedToken(\"ko_KR\", rstrip=False, lstrip=False, single_word=False, normalized=False, special=True),\n",
      "\t250015: AddedToken(\"lt_LT\", rstrip=False, lstrip=False, single_word=False, normalized=False, special=True),\n",
      "\t250016: AddedToken(\"lv_LV\", rstrip=False, lstrip=False, single_word=False, normalized=False, special=True),\n",
      "\t250017: AddedToken(\"my_MM\", rstrip=False, lstrip=False, single_word=False, normalized=False, special=True),\n",
      "\t250018: AddedToken(\"ne_NP\", rstrip=False, lstrip=False, single_word=False, normalized=False, special=True),\n",
      "\t250019: AddedToken(\"nl_XX\", rstrip=False, lstrip=False, single_word=False, normalized=False, special=True),\n",
      "\t250020: AddedToken(\"ro_RO\", rstrip=False, lstrip=False, single_word=False, normalized=False, special=True),\n",
      "\t250021: AddedToken(\"ru_RU\", rstrip=False, lstrip=False, single_word=False, normalized=False, special=True),\n",
      "\t250022: AddedToken(\"si_LK\", rstrip=False, lstrip=False, single_word=False, normalized=False, special=True),\n",
      "\t250023: AddedToken(\"tr_TR\", rstrip=False, lstrip=False, single_word=False, normalized=False, special=True),\n",
      "\t250024: AddedToken(\"vi_VN\", rstrip=False, lstrip=False, single_word=False, normalized=False, special=True),\n",
      "\t250025: AddedToken(\"zh_CN\", rstrip=False, lstrip=False, single_word=False, normalized=False, special=True),\n",
      "\t250026: AddedToken(\"<mask>\", rstrip=False, lstrip=True, single_word=False, normalized=False, special=True),\n",
      "\t250027: AddedToken(\"af_ZA\", rstrip=False, lstrip=False, single_word=False, normalized=False, special=True),\n",
      "\t250028: AddedToken(\"az_AZ\", rstrip=False, lstrip=False, single_word=False, normalized=False, special=True),\n",
      "\t250029: AddedToken(\"bn_IN\", rstrip=False, lstrip=False, single_word=False, normalized=False, special=True),\n",
      "\t250030: AddedToken(\"fa_IR\", rstrip=False, lstrip=False, single_word=False, normalized=False, special=True),\n",
      "\t250031: AddedToken(\"he_IL\", rstrip=False, lstrip=False, single_word=False, normalized=False, special=True),\n",
      "\t250032: AddedToken(\"hr_HR\", rstrip=False, lstrip=False, single_word=False, normalized=False, special=True),\n",
      "\t250033: AddedToken(\"id_ID\", rstrip=False, lstrip=False, single_word=False, normalized=False, special=True),\n",
      "\t250034: AddedToken(\"ka_GE\", rstrip=False, lstrip=False, single_word=False, normalized=False, special=True),\n",
      "\t250035: AddedToken(\"km_KH\", rstrip=False, lstrip=False, single_word=False, normalized=False, special=True),\n",
      "\t250036: AddedToken(\"mk_MK\", rstrip=False, lstrip=False, single_word=False, normalized=False, special=True),\n",
      "\t250037: AddedToken(\"ml_IN\", rstrip=False, lstrip=False, single_word=False, normalized=False, special=True),\n",
      "\t250038: AddedToken(\"mn_MN\", rstrip=False, lstrip=False, single_word=False, normalized=False, special=True),\n",
      "\t250039: AddedToken(\"mr_IN\", rstrip=False, lstrip=False, single_word=False, normalized=False, special=True),\n",
      "\t250040: AddedToken(\"pl_PL\", rstrip=False, lstrip=False, single_word=False, normalized=False, special=True),\n",
      "\t250041: AddedToken(\"ps_AF\", rstrip=False, lstrip=False, single_word=False, normalized=False, special=True),\n",
      "\t250042: AddedToken(\"pt_XX\", rstrip=False, lstrip=False, single_word=False, normalized=False, special=True),\n",
      "\t250043: AddedToken(\"sv_SE\", rstrip=False, lstrip=False, single_word=False, normalized=False, special=True),\n",
      "\t250044: AddedToken(\"sw_KE\", rstrip=False, lstrip=False, single_word=False, normalized=False, special=True),\n",
      "\t250045: AddedToken(\"ta_IN\", rstrip=False, lstrip=False, single_word=False, normalized=False, special=True),\n",
      "\t250046: AddedToken(\"te_IN\", rstrip=False, lstrip=False, single_word=False, normalized=False, special=True),\n",
      "\t250047: AddedToken(\"th_TH\", rstrip=False, lstrip=False, single_word=False, normalized=False, special=True),\n",
      "\t250048: AddedToken(\"tl_XX\", rstrip=False, lstrip=False, single_word=False, normalized=False, special=True),\n",
      "\t250049: AddedToken(\"uk_UA\", rstrip=False, lstrip=False, single_word=False, normalized=False, special=True),\n",
      "\t250050: AddedToken(\"ur_PK\", rstrip=False, lstrip=False, single_word=False, normalized=False, special=True),\n",
      "\t250051: AddedToken(\"xh_ZA\", rstrip=False, lstrip=False, single_word=False, normalized=False, special=True),\n",
      "\t250052: AddedToken(\"gl_ES\", rstrip=False, lstrip=False, single_word=False, normalized=False, special=True),\n",
      "\t250053: AddedToken(\"sl_SI\", rstrip=False, lstrip=False, single_word=False, normalized=False, special=True),\n",
      "}\n",
      ")\n"
     ]
    }
   ],
   "source": [
    "print(tokenizer)\n"
   ]
  },
  {
   "cell_type": "code",
   "execution_count": 20,
   "metadata": {},
   "outputs": [],
   "source": [
    "# Place-holders\n",
    "token_transform = {}\n",
    "vocab_transform = {}"
   ]
  },
  {
   "cell_type": "code",
   "execution_count": 21,
   "metadata": {},
   "outputs": [],
   "source": [
    "# Assign tokenizers to the dictionary\n",
    "token_transform[\"en\"] = lambda text: tokenizer.tokenize(text)\n",
    "token_transform[\"my\"] = lambda text: tokenizer.tokenize(text)"
   ]
  },
  {
   "cell_type": "code",
   "execution_count": 22,
   "metadata": {},
   "outputs": [],
   "source": [
    "# Example: Tokenizing a sentence\n",
    "sample_text_en = \"Hello, how are you?\"\n",
    "sample_text_my = \"မင်္ဂလာပါ။\""
   ]
  },
  {
   "cell_type": "code",
   "execution_count": 23,
   "metadata": {},
   "outputs": [
    {
     "name": "stdout",
     "output_type": "stream",
     "text": [
      "English Tokenized: ['▁Hello', ',', '▁how', '▁are', '▁you', '?']\n",
      "Myanmar Tokenized: ['▁မ', 'င်္', 'ဂ', 'လာ', 'ပါ။']\n"
     ]
    }
   ],
   "source": [
    "print(\"English Tokenized:\", token_transform[\"en\"](sample_text_en))\n",
    "print(\"Myanmar Tokenized:\", token_transform[\"my\"](sample_text_my))"
   ]
  },
  {
   "cell_type": "code",
   "execution_count": 24,
   "metadata": {},
   "outputs": [],
   "source": [
    "# Helper function to yield list of tokens for vocab building\n",
    "def yield_tokens(data, language):\n",
    "    language_index = {\"en\": 0, \"my\": 1}  # Index for English (0) and Myanmar (1)\n",
    "    for example in data:\n",
    "        yield token_transform[language](example[language_index[language]])  # Tokenize each sentence\n"
   ]
  },
  {
   "cell_type": "code",
   "execution_count": 25,
   "metadata": {},
   "outputs": [],
   "source": [
    "# Define special symbols and their indices\n",
    "UNK_IDX, PAD_IDX, SOS_IDX, EOS_IDX = 0, 1, 2, 3\n",
    "\n",
    "# List of special symbols\n",
    "special_symbols = [\"<unk>\", \"<pad>\", \"<sos>\", \"<eos>\"]"
   ]
  },
  {
   "cell_type": "code",
   "execution_count": 26,
   "metadata": {},
   "outputs": [],
   "source": [
    "from torchtext.vocab import build_vocab_from_iterator\n",
    "\n",
    "\n",
    "dataset_splits = {\n",
    "    \"train\": train_data,\n",
    "    \"validation\": validation_data,\n",
    "    \"test\": test_data\n",
    "}\n",
    "\n",
    "# Build vocabulary for both English and Myanmar\n",
    "for lang in [\"en\", \"my\"]:\n",
    "    vocab_transform[lang] = build_vocab_from_iterator(\n",
    "        yield_tokens(dataset_splits[\"train\"], lang),  # Tokenize & iterate over training data\n",
    "        min_freq=1,  # Keep all words, even those appearing once because Myanmar words are too small in number\n",
    "        specials=special_symbols,  # Include special symbols\n",
    "        special_first=True  # Place special symbols at the beginning\n",
    "    )\n",
    "\n",
    "# Set the unknown token index for both vocabularies\n",
    "for lang in [\"en\", \"my\"]:\n",
    "    vocab_transform[lang].set_default_index(UNK_IDX)\n"
   ]
  },
  {
   "cell_type": "code",
   "execution_count": 27,
   "metadata": {},
   "outputs": [],
   "source": [
    "# Test some example words in English\n",
    "test_words_en = [\"hello\", \"world\", \"this\", \"is\", \"unknownword\"]\n",
    "token_ids_en = vocab_transform[\"en\"](test_words_en)"
   ]
  },
  {
   "cell_type": "code",
   "execution_count": 28,
   "metadata": {},
   "outputs": [],
   "source": [
    "# Test some example words in Myanmar\n",
    "test_words_my = [\"မင်္ဂလာပါ\", \"လောလောဆယ်\", \"ဟုတ်\", \"မဟုတ်\", \"အမည်မသိစာသား\"]\n",
    "token_ids_my = vocab_transform[\"my\"](test_words_my)"
   ]
  },
  {
   "cell_type": "code",
   "execution_count": 29,
   "metadata": {},
   "outputs": [
    {
     "name": "stdout",
     "output_type": "stream",
     "text": [
      "🔹 English Tokens -> IDs: [('hello', 0), ('world', 10436), ('this', 5085), ('is', 425), ('unknownword', 0)]\n",
      "🔹 Myanmar Tokens -> IDs: [('မင်္ဂလာပါ', 0), ('လောလောဆယ်', 0), ('ဟုတ်', 0), ('မဟုတ်', 416), ('အမည်မသိစာသား', 0)]\n"
     ]
    }
   ],
   "source": [
    "print(\"🔹 English Tokens -> IDs:\", list(zip(test_words_en, token_ids_en)))\n",
    "print(\"🔹 Myanmar Tokens -> IDs:\", list(zip(test_words_my, token_ids_my)))"
   ]
  },
  {
   "cell_type": "code",
   "execution_count": 30,
   "metadata": {},
   "outputs": [],
   "source": [
    "# Get the index-to-string mapping (itos = \"index to string\")\n",
    "itos_en = vocab_transform[\"en\"].get_itos()\n",
    "itos_my = vocab_transform[\"my\"].get_itos()"
   ]
  },
  {
   "cell_type": "code",
   "execution_count": 31,
   "metadata": {},
   "outputs": [
    {
     "name": "stdout",
     "output_type": "stream",
     "text": [
      "🔹 Reverse Lookup (English): ['<unk>', 'world', 'this', 'is', '<unk>']\n",
      "🔹 Reverse Lookup (Myanmar): ['<unk>', '<unk>', '<unk>', 'မဟုတ်', '<unk>']\n"
     ]
    }
   ],
   "source": [
    "# Convert back from IDs to words\n",
    "print(\"🔹 Reverse Lookup (English):\", [itos_en[i] for i in token_ids_en])\n",
    "print(\"🔹 Reverse Lookup (Myanmar):\", [itos_my[i] for i in token_ids_my])"
   ]
  },
  {
   "cell_type": "code",
   "execution_count": 32,
   "metadata": {},
   "outputs": [
    {
     "name": "stdout",
     "output_type": "stream",
     "text": [
      "🔹 English Vocabulary Size: 18160\n",
      "🔹 Myanmar Vocabulary Size: 1763\n"
     ]
    }
   ],
   "source": [
    "print(\"🔹 English Vocabulary Size:\", len(vocab_transform[\"en\"]))\n",
    "print(\"🔹 Myanmar Vocabulary Size:\", len(vocab_transform[\"my\"]))"
   ]
  },
  {
   "cell_type": "code",
   "execution_count": 33,
   "metadata": {},
   "outputs": [
    {
     "name": "stdout",
     "output_type": "stream",
     "text": [
      "🔹 Tokenized Myanmar Sentence: ['▁မ', 'င်္', 'ဂ', 'လာ', 'ပါ။']\n"
     ]
    }
   ],
   "source": [
    "print(\"🔹 Tokenized Myanmar Sentence:\", token_transform[\"my\"](\"မင်္ဂလာပါ။\"))\n"
   ]
  },
  {
   "cell_type": "code",
   "execution_count": 34,
   "metadata": {},
   "outputs": [
    {
     "name": "stdout",
     "output_type": "stream",
     "text": [
      "🔹 SentencePiece Tokenized Myanmar: ['▁မင်္ဂလာ', 'ပါ', '။']\n"
     ]
    }
   ],
   "source": [
    "import sentencepiece as spm\n",
    "\n",
    "# Prepare Myanmar text for training the tokenizer\n",
    "with open(\"myanmar_text.txt\", \"w\", encoding=\"utf-8\") as f:\n",
    "    for en, my in train_data:  # Extract Myanmar text from train_data\n",
    "        f.write(my + \"\\n\")\n",
    "\n",
    "# Train a SentencePiece tokenizer\n",
    "spm.SentencePieceTrainer.train(input=\"myanmar_text.txt\", model_prefix=\"myanmar_bpe\", vocab_size=32000)\n",
    "\n",
    "# Load the trained tokenizer\n",
    "spm_tokenizer = spm.SentencePieceProcessor(model_file=\"myanmar_bpe.model\")\n",
    "\n",
    "# Test tokenization\n",
    "print(\"🔹 SentencePiece Tokenized Myanmar:\", spm_tokenizer.encode(\"မင်္ဂလာပါ။\", out_type=str))\n"
   ]
  },
  {
   "cell_type": "code",
   "execution_count": 35,
   "metadata": {},
   "outputs": [],
   "source": [
    "from torchtext.vocab import build_vocab_from_iterator\n",
    "\n",
    "def yield_tokens_sentencepiece(data):\n",
    "    for _, my_text in data:\n",
    "        yield spm_tokenizer.encode(my_text, out_type=str)  # Tokenize with SentencePiece\n",
    "\n",
    "# Rebuild the Myanmar vocabulary\n",
    "vocab_transform[\"my\"] = build_vocab_from_iterator(\n",
    "    yield_tokens_sentencepiece(train_data),\n",
    "    min_freq=1,\n",
    "    specials=special_symbols,\n",
    "    special_first=True\n",
    ")\n",
    "\n",
    "# Set unknown token index\n",
    "vocab_transform[\"my\"].set_default_index(UNK_IDX)\n"
   ]
  },
  {
   "cell_type": "code",
   "execution_count": 36,
   "metadata": {},
   "outputs": [
    {
     "name": "stdout",
     "output_type": "stream",
     "text": [
      "🔹 Reverse Lookup (Myanmar): ['<unk>', 'လောလောဆယ်', 'ဟုတ်', 'မဟုတ်', '<unk>']\n"
     ]
    }
   ],
   "source": [
    "test_words_my = [\"မင်္ဂလာပါ\", \"လောလောဆယ်\", \"ဟုတ်\", \"မဟုတ်\", \"အမည်မသိစာသား\"]\n",
    "token_ids_my = vocab_transform[\"my\"](test_words_my)\n",
    "\n",
    "itos_my = vocab_transform[\"my\"].get_itos()\n",
    "print(\"🔹 Reverse Lookup (Myanmar):\", [itos_my[i] for i in token_ids_my])\n"
   ]
  },
  {
   "cell_type": "markdown",
   "metadata": {},
   "source": [
    "## Data Preprocessing(Numericalization)"
   ]
  },
  {
   "cell_type": "code",
   "execution_count": 37,
   "metadata": {},
   "outputs": [
    {
     "name": "stdout",
     "output_type": "stream",
     "text": [
      "✅ Using device: cuda\n"
     ]
    }
   ],
   "source": [
    "import torch\n",
    "\n",
    "# Check if GPU is available\n",
    "device = torch.device(\"cuda\" if torch.cuda.is_available() else \"cpu\")\n",
    "\n",
    "print(f\"✅ Using device: {device}\")"
   ]
  },
  {
   "cell_type": "code",
   "execution_count": 38,
   "metadata": {},
   "outputs": [],
   "source": [
    "def numericalize(example, language):\n",
    "    return torch.tensor(vocab_transform[language](example), dtype=torch.long).to(device)\n"
   ]
  },
  {
   "cell_type": "markdown",
   "metadata": {},
   "source": [
    "## Preparing Dataloader"
   ]
  },
  {
   "cell_type": "code",
   "execution_count": 39,
   "metadata": {},
   "outputs": [],
   "source": [
    "from torch.nn.utils.rnn import pad_sequence\n",
    "\n",
    "def collate_fn(batch):\n",
    "    src_batch, trg_batch = [], []\n",
    "\n",
    "    for src_text, trg_text in batch:\n",
    "        src_batch.append(numericalize(src_text, \"en\"))\n",
    "        trg_batch.append(numericalize(trg_text, \"my\"))\n",
    "\n",
    "    # Pad sequences so they have the same length in a batch\n",
    "    src_batch = pad_sequence(src_batch, padding_value=PAD_IDX, batch_first=True).to(device)\n",
    "    trg_batch = pad_sequence(trg_batch, padding_value=PAD_IDX, batch_first=True).to(device)\n",
    "\n",
    "    return src_batch, trg_batch  # Return as batch tensors\n"
   ]
  },
  {
   "cell_type": "code",
   "execution_count": 40,
   "metadata": {},
   "outputs": [],
   "source": [
    "from torch.nn.utils.rnn import pad_sequence\n",
    "from torch.utils.data import DataLoader\n",
    "\n",
    "BATCH_SIZE = 8 # Using 8 for GPU memory constraints\n",
    "\n",
    "# Function to apply sequential transformations\n",
    "def sequential_transforms(*transforms):\n",
    "    def func(txt_input):\n",
    "        for transform in transforms:\n",
    "            txt_input = transform(txt_input)\n",
    "        return txt_input\n",
    "    return func\n",
    "\n",
    "# Function to add BOS (Start of Sentence) and EOS (End of Sentence) tokens\n",
    "def tensor_transform(token_ids):\n",
    "    return torch.cat((torch.tensor([SOS_IDX]), \n",
    "                      torch.tensor(token_ids), \n",
    "                      torch.tensor([EOS_IDX])))\n",
    "\n",
    "# Define transformations for both English (SRC) and Myanmar (TRG)\n",
    "text_transform = {}\n",
    "for lang in [\"en\", \"my\"]:\n",
    "    text_transform[lang] = sequential_transforms(\n",
    "        token_transform[lang],  # Tokenization\n",
    "        vocab_transform[lang],  # Numericalization\n",
    "        tensor_transform        # Add BOS/EOS and convert to tensor\n",
    "    )\n",
    "\n",
    "# Function to collate batches for training\n",
    "def collate_batch(batch):\n",
    "    src_batch, src_len_batch, trg_batch = [], [], []\n",
    "    \n",
    "    for src_sample, trg_sample in batch:\n",
    "        processed_text = text_transform[\"en\"](src_sample.rstrip(\"\\n\"))  # Process English text\n",
    "        src_batch.append(processed_text)\n",
    "        trg_batch.append(text_transform[\"my\"](trg_sample.rstrip(\"\\n\")))  # Process Myanmar text\n",
    "        src_len_batch.append(processed_text.size(0))  # Store sentence length\n",
    "\n",
    "    # Pad sequences for batch consistency\n",
    "    src_batch = pad_sequence(src_batch, padding_value=PAD_IDX, batch_first=True)\n",
    "    trg_batch = pad_sequence(trg_batch, padding_value=PAD_IDX, batch_first=True)\n",
    "\n",
    "    return src_batch.to(device), torch.tensor(src_len_batch, dtype=torch.int64).to(device), trg_batch.to(device)\n",
    "\n"
   ]
  },
  {
   "cell_type": "code",
   "execution_count": 41,
   "metadata": {},
   "outputs": [],
   "source": [
    "# Define DataLoaders\n",
    "batch_size = 8\n",
    "train_loader = DataLoader(train_data, batch_size=BATCH_SIZE, shuffle=True, collate_fn=collate_batch)\n",
    "valid_loader = DataLoader(validation_data, batch_size=BATCH_SIZE, shuffle=False, collate_fn=collate_batch)\n",
    "test_loader  = DataLoader(test_data, batch_size=BATCH_SIZE, shuffle=False, collate_fn=collate_batch)"
   ]
  },
  {
   "cell_type": "code",
   "execution_count": 42,
   "metadata": {},
   "outputs": [],
   "source": [
    "for en, _, my in train_loader:\n",
    "    break"
   ]
  },
  {
   "cell_type": "code",
   "execution_count": 43,
   "metadata": {},
   "outputs": [
    {
     "name": "stdout",
     "output_type": "stream",
     "text": [
      "English shape:  torch.Size([8, 53])\n",
      "Myanmar shape:  torch.Size([8, 108])\n"
     ]
    }
   ],
   "source": [
    "print(\"English shape: \", en.shape)  # (batch_size, seq_len)\n",
    "print(\"Myanmar shape: \", my.shape)   # (batch_size, seq_len)"
   ]
  },
  {
   "cell_type": "markdown",
   "metadata": {},
   "source": [
    "## 5. Design the model"
   ]
  },
  {
   "cell_type": "markdown",
   "metadata": {},
   "source": [
    "## Encoder layer"
   ]
  },
  {
   "cell_type": "code",
   "execution_count": 44,
   "metadata": {},
   "outputs": [],
   "source": [
    "class EncoderLayer(nn.Module):\n",
    "    def __init__(self, hid_dim, n_heads, pf_dim, dropout, device, mech):\n",
    "        super().__init__()\n",
    "        self.self_attn_layer_norm = nn.LayerNorm(hid_dim)\n",
    "        self.ff_layer_norm        = nn.LayerNorm(hid_dim)\n",
    "        self.self_attention       = MultiHeadAttentionLayer(hid_dim, n_heads, dropout, device, mech)\n",
    "        self.feedforward          = PositionwiseFeedforwardLayer(hid_dim, pf_dim, dropout)\n",
    "        self.dropout              = nn.Dropout(dropout)\n",
    "        \n",
    "    def forward(self, src, src_mask):\n",
    "        #src = [batch size, src len, hid dim]\n",
    "        #src_mask = [batch size, 1, 1, src len]   #if the token is padding, it will be 1, otherwise 0\n",
    "        _src, _ = self.self_attention(src, src, src, src_mask)\n",
    "        src     = self.self_attn_layer_norm(src + self.dropout(_src))\n",
    "        #src: [batch_size, src len, hid dim]\n",
    "        \n",
    "        _src    = self.feedforward(src)\n",
    "        src     = self.ff_layer_norm(src + self.dropout(_src))\n",
    "        #src: [batch_size, src len, hid dim]\n",
    "        \n",
    "        return src"
   ]
  },
  {
   "cell_type": "markdown",
   "metadata": {},
   "source": [
    "## Encoder"
   ]
  },
  {
   "cell_type": "code",
   "execution_count": 45,
   "metadata": {},
   "outputs": [],
   "source": [
    "class Encoder(nn.Module):\n",
    "    def __init__(self, input_dim, hid_dim, n_layers, n_heads, pf_dim, dropout, device, \n",
    "                 mech, max_length = 1000):\n",
    "        super().__init__()\n",
    "        self.device = device\n",
    "        self.tok_embedding = nn.Embedding(input_dim, hid_dim)\n",
    "        self.pos_embedding = nn.Embedding(max_length, hid_dim)\n",
    "        self.layers        = nn.ModuleList([EncoderLayer(hid_dim, n_heads, pf_dim, dropout, device, mech)\n",
    "                                           for _ in range(n_layers)])\n",
    "        self.dropout       = nn.Dropout(dropout)\n",
    "        self.scale         = torch.sqrt(torch.FloatTensor([hid_dim])).to(self.device)\n",
    "        \n",
    "    def forward(self, src, src_mask):\n",
    "        \n",
    "        #src = [batch size, src len]\n",
    "        #src_mask = [batch size, 1, 1, src len]\n",
    "        \n",
    "        batch_size = src.shape[0]\n",
    "        src_len    = src.shape[1]\n",
    "        \n",
    "        pos        = torch.arange(0, src_len).unsqueeze(0).repeat(batch_size, 1).to(self.device)\n",
    "        #pos: [batch_size, src_len]\n",
    "        \n",
    "        src        = self.dropout((self.tok_embedding(src) * self.scale) + self.pos_embedding(pos))\n",
    "        #src: [batch_size, src_len, hid_dim]\n",
    "        \n",
    "        for layer in self.layers:\n",
    "            src = layer(src, src_mask)\n",
    "        #src: [batch_size, src_len, hid_dim]\n",
    "        return src"
   ]
  },
  {
   "cell_type": "markdown",
   "metadata": {},
   "source": [
    "## Multi-Head Attention "
   ]
  },
  {
   "cell_type": "code",
   "execution_count": 46,
   "metadata": {},
   "outputs": [],
   "source": [
    "class MultiHeadAttentionLayer(nn.Module):\n",
    "    def __init__(self, hid_dim, n_heads, dropout, device, attention_type=\"gen\"):\n",
    "        super().__init__()\n",
    "\n",
    "        assert hid_dim % n_heads == 0, \"Hidden dimension must be divisible by number of heads\"\n",
    "\n",
    "        self.hid_dim = hid_dim\n",
    "        self.n_heads = n_heads\n",
    "        self.head_dim = hid_dim // n_heads\n",
    "        self.attention_type = attention_type  # Select Attention Mechanism\n",
    "        self.device = device\n",
    "\n",
    "        # Linear transformations for Q, K, V\n",
    "        self.fc_q = nn.Linear(hid_dim, hid_dim)\n",
    "        self.fc_k = nn.Linear(hid_dim, hid_dim)\n",
    "        self.fc_v = nn.Linear(hid_dim, hid_dim)\n",
    "\n",
    "        # Layers for additive attention\n",
    "        self.v = nn.Linear(self.head_dim, 1)                 \n",
    "        self.W = nn.Linear(self.head_dim, self.head_dim)  # Used in multiplicative\n",
    "        self.U = nn.Linear(self.head_dim, self.head_dim)\n",
    "\n",
    "        # Final output transformation\n",
    "        self.fc_o = nn.Linear(hid_dim, hid_dim)\n",
    "\n",
    "        self.dropout = nn.Dropout(dropout)\n",
    "        self.scale = torch.sqrt(torch.FloatTensor([self.head_dim])).to(device)\n",
    "    \n",
    "    def forward(self, query, key, value, mask = None):\n",
    "        #src, src, src, src_mask\n",
    "        #query = [batch size, query len, hid dim]\n",
    "        #key = [batch size, key len, hid dim]\n",
    "        #value = [batch size, value len, hid dim]\n",
    "        \n",
    "        \n",
    "        batch_size = query.shape[0]\n",
    "        query_len = query.shape[1]\n",
    "        key_len = key.shape[1]\n",
    "        \n",
    "        Q = self.fc_q(query)\n",
    "        K = self.fc_k(key)\n",
    "        V = self.fc_v(value)\n",
    "        #Q=K=V: [batch_size, src len, hid_dim] when self attention\n",
    "        #Q = [batch_size, query len, hid_dim], K=V = [batch_size, key len, hid_dim]\n",
    "\n",
    "        Q = Q.view(batch_size, -1, self.n_heads, self.head_dim).permute(0, 2, 1, 3)\n",
    "        K = K.view(batch_size, -1, self.n_heads, self.head_dim).permute(0, 2, 1, 3)\n",
    "        V = V.view(batch_size, -1, self.n_heads, self.head_dim).permute(0, 2, 1, 3)\n",
    "        #Q = [batch_size, n heads, query len, head_dim]\n",
    "        #K=V = [batch_size, n heads, key len, head_dim]\n",
    "\n",
    "        # Select Attention Mechanism\n",
    "        if self.attention_type == \"gen\":\n",
    "            energy = self.general_attention(Q, K)  # General Attention\n",
    "        elif self.attention_type == \"mul\":\n",
    "            energy = self.multiplicative_attention(Q, K)  # Multiplicative Attention\n",
    "        elif self.attention_type == \"add\":\n",
    "            energy = self.additive_attention(Q, K)  # Additive Attention\n",
    "        else:\n",
    "            raise ValueError(\"Invalid attention type. Choose from 'gen', 'mul', 'add'.\")\n",
    "\n",
    "        # Masking for padding\n",
    "        if mask is not None:\n",
    "            energy = energy.masked_fill(mask == 0, float('-inf'))\n",
    "\n",
    "        attention = torch.softmax(energy, dim=-1)\n",
    "\n",
    "        # Compute weighted sum\n",
    "        x = torch.matmul(self.dropout(attention), V)\n",
    "        x = x.permute(0, 2, 1, 3).contiguous()\n",
    "        x = x.view(batch_size, -1, self.hid_dim)\n",
    "        x = self.fc_o(x)\n",
    "\n",
    "        return x, attention\n",
    "\n",
    "    def general_attention(self, Q, K):\n",
    "        return torch.matmul(Q, K.permute(0, 1, 3, 2)) / self.scale\n",
    "\n",
    "    def multiplicative_attention(self, Q, K):\n",
    "        return torch.matmul(Q, self.W(K).permute(0, 1, 3, 2)) / self.scale\n",
    "\n",
    "    def additive_attention(self, Q, K):\n",
    "        batch_size, n_heads, query_len, key_len, head_dim = Q.shape[0], Q.shape[1], Q.shape[2], K.shape[2], Q.shape[3]\n",
    "\n",
    "        # Reshape Q and K to allow element-wise addition\n",
    "        Q = Q.view(batch_size, n_heads, query_len, 1, head_dim)\n",
    "        K = K.view(batch_size, n_heads, 1, key_len, head_dim)\n",
    "\n",
    "        energy = self.v(torch.tanh(self.W(Q) + self.U(K))) / self.scale\n",
    "        return energy.squeeze(4)  # Remove extra dimension"
   ]
  },
  {
   "cell_type": "markdown",
   "metadata": {},
   "source": [
    "## Decoder Layer"
   ]
  },
  {
   "cell_type": "code",
   "execution_count": 47,
   "metadata": {},
   "outputs": [],
   "source": [
    "class DecoderLayer(nn.Module):\n",
    "    def __init__(self, hid_dim, n_heads, pf_dim, dropout, device, mech):\n",
    "        super().__init__()\n",
    "        self.self_attn_layer_norm = nn.LayerNorm(hid_dim)\n",
    "        self.enc_attn_layer_norm  = nn.LayerNorm(hid_dim)\n",
    "        self.ff_layer_norm        = nn.LayerNorm(hid_dim)\n",
    "        self.self_attention       = MultiHeadAttentionLayer(hid_dim, n_heads, dropout, device, mech)\n",
    "        self.encoder_attention    = MultiHeadAttentionLayer(hid_dim, n_heads, dropout, device, mech)\n",
    "        self.feedforward          = PositionwiseFeedforwardLayer(hid_dim, pf_dim, dropout)\n",
    "        self.dropout              = nn.Dropout(dropout)\n",
    "        \n",
    "    def forward(self, trg, enc_src, trg_mask, src_mask):\n",
    "        \n",
    "        #trg = [batch size, trg len, hid dim]\n",
    "        #enc_src = [batch size, src len, hid dim]\n",
    "        #trg_mask = [batch size, 1, trg len, trg len]\n",
    "        #src_mask = [batch size, 1, 1, src len]\n",
    "        \n",
    "        _trg, _ = self.self_attention(trg, trg, trg, trg_mask)\n",
    "        trg     = self.self_attn_layer_norm(trg + self.dropout(_trg))\n",
    "        #trg = [batch_size, trg len, hid dim]\n",
    "        \n",
    "        _trg, attention = self.encoder_attention(trg, enc_src, enc_src, src_mask)\n",
    "        trg             = self.enc_attn_layer_norm(trg + self.dropout(_trg))\n",
    "        #trg = [batch_size, trg len, hid dim]\n",
    "        #attention = [batch_size, n heads, trg len, src len]\n",
    "        \n",
    "        _trg = self.feedforward(trg)\n",
    "        trg  = self.ff_layer_norm(trg + self.dropout(_trg))\n",
    "        #trg = [batch_size, trg len, hid dim]\n",
    "        \n",
    "        return trg, attention"
   ]
  },
  {
   "cell_type": "markdown",
   "metadata": {},
   "source": [
    "## Decoder"
   ]
  },
  {
   "cell_type": "code",
   "execution_count": 48,
   "metadata": {},
   "outputs": [],
   "source": [
    "class Decoder(nn.Module):\n",
    "    def __init__(self, output_dim, hid_dim, n_layers, n_heads, \n",
    "                 pf_dim, dropout, device, mech, max_length = 1000):\n",
    "        super().__init__()\n",
    "        self.device = device\n",
    "        self.mech = mech\n",
    "        self.tok_embedding = nn.Embedding(output_dim, hid_dim)\n",
    "        self.pos_embedding = nn.Embedding(max_length, hid_dim)\n",
    "        self.layers        = nn.ModuleList([DecoderLayer(hid_dim, n_heads, pf_dim, dropout, device, mech)\n",
    "                                            for _ in range(n_layers)])\n",
    "        self.fc_out        = nn.Linear(hid_dim, output_dim)\n",
    "        self.dropout       = nn.Dropout(dropout)\n",
    "        self.scale         = torch.sqrt(torch.FloatTensor([hid_dim])).to(device)\n",
    "        \n",
    "    def forward(self, trg, enc_src, trg_mask, src_mask):\n",
    "        \n",
    "        #trg = [batch size, trg len]\n",
    "        #enc_src = [batch size, src len, hid dim]\n",
    "        #trg_mask = [batch size, 1, trg len, trg len]\n",
    "        #src_mask = [batch size, 1, 1, src len]\n",
    "        \n",
    "        batch_size = trg.shape[0]\n",
    "        trg_len    = trg.shape[1]\n",
    "        \n",
    "        \n",
    "        pos = torch.arange(0, trg_len).unsqueeze(0).repeat(batch_size, 1).to(self.device)\n",
    "        #pos: [batch_size, trg len]\n",
    "        \n",
    "        # print(trg.shape, self.scale, self.tok_embedding, self.pos_embedding)\n",
    "        trg = self.dropout((self.tok_embedding(trg) * self.scale) + self.pos_embedding(pos))\n",
    "        #trg: [batch_size, trg len, hid dim]\n",
    "        \n",
    "        for layer in self.layers:\n",
    "            trg, attention = layer(trg, enc_src, trg_mask, src_mask)\n",
    "            \n",
    "        #trg: [batch_size, trg len, hid dim]\n",
    "        #attention: [batch_size, n heads, trg len, src len]\n",
    "        \n",
    "        output = self.fc_out(trg)\n",
    "        #output = [batch_size, trg len, output_dim]\n",
    "        # print(attention.shape)\n",
    "        return output, attention"
   ]
  },
  {
   "cell_type": "code",
   "execution_count": 49,
   "metadata": {},
   "outputs": [],
   "source": [
    "import torch.nn.functional as F\n",
    "class PositionwiseFeedforwardLayer(nn.Module):\n",
    "    def __init__(self, hid_dim, pf_dim, dropout):\n",
    "        super().__init__()\n",
    "        self.fc1 = nn.Linear(hid_dim, pf_dim)\n",
    "        self.fc2 = nn.Linear(pf_dim, hid_dim)\n",
    "        self.dropout = nn.Dropout(dropout)\n",
    "\n",
    "    def forward(self, x):\n",
    "        return self.fc2(self.dropout(F.relu(self.fc1(x))))\n"
   ]
  },
  {
   "cell_type": "markdown",
   "metadata": {},
   "source": [
    "## Seq2seq Model"
   ]
  },
  {
   "cell_type": "code",
   "execution_count": 50,
   "metadata": {},
   "outputs": [],
   "source": [
    "class Seq2SeqTransformer(nn.Module):\n",
    "    def __init__(self, encoder, decoder, src_pad_idx, trg_pad_idx, device):\n",
    "        super().__init__()\n",
    "        self.encoder = encoder\n",
    "        self.decoder = decoder\n",
    "        self.src_pad_idx = src_pad_idx\n",
    "        self.trg_pad_idx = trg_pad_idx\n",
    "        self.device = device\n",
    "\n",
    "    def make_src_mask(self, src):\n",
    "        return (src != self.src_pad_idx).unsqueeze(1).unsqueeze(2)\n",
    "        # Shape: [batch size, 1, 1, src len]\n",
    "\n",
    "    def make_trg_mask(self, trg):\n",
    "        trg_pad_mask = (trg != self.trg_pad_idx).unsqueeze(1).unsqueeze(2)\n",
    "        trg_len = trg.size(1)\n",
    "\n",
    "        trg_sub_mask = torch.tril(torch.ones(trg_len, trg_len, device=self.device)).bool()\n",
    "        return trg_pad_mask & trg_sub_mask\n",
    "        # Shape: [batch size, 1, trg len, trg len]\n",
    "\n",
    "    def forward(self, src, trg):\n",
    "        src_mask = self.make_src_mask(src)\n",
    "        trg_mask = self.make_trg_mask(trg)\n",
    "\n",
    "        enc_src = self.encoder(src, src_mask)\n",
    "        output, attention = self.decoder(trg, enc_src, trg_mask, src_mask)\n",
    "\n",
    "        return output, attention\n"
   ]
  },
  {
   "cell_type": "markdown",
   "metadata": {},
   "source": [
    "## Training"
   ]
  },
  {
   "cell_type": "code",
   "execution_count": 51,
   "metadata": {},
   "outputs": [],
   "source": [
    "import torch.nn as nn\n",
    "\n",
    "def initialize_weights(m):\n",
    "    if isinstance(m, nn.Linear) or isinstance(m, nn.Conv2d) or isinstance(m, nn.Embedding):\n",
    "        if hasattr(m, 'weight') and m.weight is not None:\n",
    "            nn.init.xavier_uniform_(m.weight)\n",
    "        if hasattr(m, 'bias') and m.bias is not None:\n",
    "            nn.init.zeros_(m.bias)  # Initialize biases to zero\n"
   ]
  },
  {
   "cell_type": "code",
   "execution_count": 52,
   "metadata": {},
   "outputs": [],
   "source": [
    "def initialize_model(attention_mech):\n",
    "    # Define model hyperparameters\n",
    "    INPUT_DIM = len(vocab_transform[SRC_LANGUAGE])\n",
    "    OUTPUT_DIM = len(vocab_transform[TRG_LANGUAGE])\n",
    "    HID_DIM = 256\n",
    "    ENC_LAYERS, DEC_LAYERS = 3, 3\n",
    "    ENC_HEADS, DEC_HEADS = 8, 8\n",
    "    ENC_PF_DIM, DEC_PF_DIM = 512, 512\n",
    "    ENC_DROPOUT, DEC_DROPOUT = 0.1, 0.1\n",
    "\n",
    "    # Initialize encoder and decoder with specified attention mechanism\n",
    "    encoder = Encoder(INPUT_DIM, HID_DIM, ENC_LAYERS, ENC_HEADS, ENC_PF_DIM, ENC_DROPOUT, device, attention_mech)\n",
    "    decoder = Decoder(OUTPUT_DIM, HID_DIM, DEC_LAYERS, DEC_HEADS, DEC_PF_DIM, DEC_DROPOUT, device, attention_mech)\n",
    "\n",
    "    # Define padding indices\n",
    "    SRC_PAD_IDX = PAD_IDX\n",
    "    TRG_PAD_IDX = PAD_IDX\n",
    "\n",
    "    # Create the Seq2Seq transformer model\n",
    "    model = Seq2SeqTransformer(encoder, decoder, SRC_PAD_IDX, TRG_PAD_IDX, device).to(device)\n",
    "\n",
    "    # Apply weight initialization\n",
    "    model.apply(initialize_weights)\n",
    "\n",
    "    return model\n"
   ]
  },
  {
   "cell_type": "code",
   "execution_count": 53,
   "metadata": {},
   "outputs": [],
   "source": [
    "def count_parameters(model):\n",
    "    params = [p.numel() for p in model.parameters() if p.requires_grad]\n",
    "    total_params = sum(params)\n",
    "\n",
    "    print(f\"Total Trainable Parameters: {total_params:,}\")  # Adds thousand separator for readability\n",
    "\n",
    "    return total_params  # Returning total parameter count for potential use elsewhere\n"
   ]
  },
  {
   "cell_type": "markdown",
   "metadata": {},
   "source": [
    "## General Attention model"
   ]
  },
  {
   "cell_type": "code",
   "execution_count": 54,
   "metadata": {},
   "outputs": [
    {
     "name": "stdout",
     "output_type": "stream",
     "text": [
      "Total Trainable Parameters: 24,897,906\n"
     ]
    },
    {
     "data": {
      "text/plain": [
       "24897906"
      ]
     },
     "execution_count": 54,
     "metadata": {},
     "output_type": "execute_result"
    }
   ],
   "source": [
    "genmodel = initialize_model('gen')\n",
    "count_parameters(genmodel)\n"
   ]
  },
  {
   "cell_type": "markdown",
   "metadata": {},
   "source": [
    "## Multiplicative Attention model"
   ]
  },
  {
   "cell_type": "code",
   "execution_count": 55,
   "metadata": {},
   "outputs": [
    {
     "name": "stdout",
     "output_type": "stream",
     "text": [
      "Total Trainable Parameters: 24,897,906\n"
     ]
    },
    {
     "data": {
      "text/plain": [
       "24897906"
      ]
     },
     "execution_count": 55,
     "metadata": {},
     "output_type": "execute_result"
    }
   ],
   "source": [
    "mulmodel = initialize_model('mul')\n",
    "count_parameters(mulmodel)"
   ]
  },
  {
   "cell_type": "markdown",
   "metadata": {},
   "source": [
    "## Additive Attention model"
   ]
  },
  {
   "cell_type": "code",
   "execution_count": 56,
   "metadata": {},
   "outputs": [
    {
     "name": "stdout",
     "output_type": "stream",
     "text": [
      "Total Trainable Parameters: 24,897,906\n"
     ]
    },
    {
     "data": {
      "text/plain": [
       "24897906"
      ]
     },
     "execution_count": 56,
     "metadata": {},
     "output_type": "execute_result"
    }
   ],
   "source": [
    "addmodel = initialize_model('add')\n",
    "count_parameters(addmodel)"
   ]
  },
  {
   "cell_type": "markdown",
   "metadata": {},
   "source": [
    "## Optimizer and learning rate"
   ]
  },
  {
   "cell_type": "code",
   "execution_count": 57,
   "metadata": {},
   "outputs": [
    {
     "name": "stdout",
     "output_type": "stream",
     "text": [
      "Total Trainable Parameters: 24,897,906\n",
      "Total Trainable Parameters: 24,897,906\n",
      "Total Trainable Parameters: 24,897,906\n"
     ]
    },
    {
     "data": {
      "text/plain": [
       "24897906"
      ]
     },
     "execution_count": 57,
     "metadata": {},
     "output_type": "execute_result"
    }
   ],
   "source": [
    "import torch.optim as optim\n",
    "\n",
    "# Learning rate\n",
    "lr = 0.001\n",
    "\n",
    "# Ensure models are initialized before using them\n",
    "genmodel = initialize_model('gen')\n",
    "mulmodel = initialize_model('mul')\n",
    "addmodel = initialize_model('add')\n",
    "\n",
    "# Define optimizers\n",
    "optimizer_gen = optim.Adam(genmodel.parameters(), lr=lr)\n",
    "optimizer_mul = optim.Adam(mulmodel.parameters(), lr=lr)\n",
    "optimizer_add = optim.Adam(addmodel.parameters(), lr=lr)\n",
    "\n",
    "# Define loss functions (ignoring padding tokens)\n",
    "criterion_gen = nn.CrossEntropyLoss(ignore_index=PAD_IDX)\n",
    "criterion_mul = nn.CrossEntropyLoss(ignore_index=PAD_IDX)\n",
    "criterion_add = nn.CrossEntropyLoss(ignore_index=PAD_IDX)\n",
    "\n",
    "# Print model parameter counts (Optional)\n",
    "count_parameters(genmodel)\n",
    "count_parameters(mulmodel)\n",
    "count_parameters(addmodel)\n"
   ]
  },
  {
   "cell_type": "markdown",
   "metadata": {},
   "source": [
    "## Train/ Evaluate functions"
   ]
  },
  {
   "cell_type": "code",
   "execution_count": 58,
   "metadata": {},
   "outputs": [],
   "source": [
    "import torch\n",
    "\n",
    "def train(model, loader, optimizer, criterion, clip, loader_length):\n",
    "    model.train()  # Set model to training mode\n",
    "    epoch_loss = 0\n",
    "\n",
    "    for src, src_len, trg in loader:\n",
    "        src, trg = src.to(device), trg.to(device)\n",
    "\n",
    "        optimizer.zero_grad()\n",
    "\n",
    "        # Remove <eos> token from trg input (teacher forcing step)\n",
    "        output, _ = model(src, trg[:, :-1])\n",
    "\n",
    "        # Reshape outputs for loss computation\n",
    "        output_dim = output.shape[-1]\n",
    "        output = output.view(-1, output_dim)  # [batch_size * (trg_len - 1), output_dim]\n",
    "        trg = trg[:, 1:].reshape(-1)          # [batch_size * (trg_len - 1)] (remove <sos>)\n",
    "\n",
    "        # Compute loss\n",
    "        loss = criterion(output, trg)\n",
    "        loss.backward()\n",
    "\n",
    "        # Clip gradients to prevent exploding gradients\n",
    "        torch.nn.utils.clip_grad_norm_(model.parameters(), clip)\n",
    "\n",
    "        optimizer.step()\n",
    "        epoch_loss += loss.item()\n",
    "\n",
    "    return epoch_loss / loader_length  # Return average loss per batch\n"
   ]
  },
  {
   "cell_type": "code",
   "execution_count": 59,
   "metadata": {},
   "outputs": [],
   "source": [
    "import torch\n",
    "\n",
    "def evaluate(model, loader, criterion, loader_length):\n",
    "    model.eval()  # Set model to evaluation mode\n",
    "    epoch_loss = 0\n",
    "\n",
    "    with torch.no_grad():  # Disable gradient computation for efficiency\n",
    "        for src, src_len, trg in loader:\n",
    "            src, trg = src.to(device), trg.to(device)\n",
    "\n",
    "            # Remove <eos> token from trg input (teacher forcing step)\n",
    "            output, _ = model(src, trg[:, :-1])\n",
    "\n",
    "            # Reshape outputs for loss computation\n",
    "            output_dim = output.shape[-1]\n",
    "            output = output.contiguous().view(-1, output_dim)  # [batch_size * (trg_len - 1), output_dim]\n",
    "            trg = trg[:, 1:].contiguous().view(-1)             # [batch_size * (trg_len - 1)] (remove <sos>)\n",
    "\n",
    "            # Compute loss\n",
    "            loss = criterion(output, trg)\n",
    "            epoch_loss += loss.item()\n",
    "\n",
    "    return epoch_loss / loader_length  # Return average loss per batch\n"
   ]
  },
  {
   "cell_type": "code",
   "execution_count": 60,
   "metadata": {},
   "outputs": [
    {
     "name": "stdout",
     "output_type": "stream",
     "text": [
      "Train Batches: 2035\n",
      "Validation Batches: 227\n",
      "Test Batches: 252\n"
     ]
    }
   ],
   "source": [
    "# Ensure DataLoaders are properly initialized before accessing their lengths\n",
    "train_loader_length = len(train_loader) if train_loader else 0\n",
    "val_loader_length = len(valid_loader) if valid_loader else 0\n",
    "test_loader_length = len(test_loader) if test_loader else 0\n",
    "\n",
    "print(f\"Train Batches: {train_loader_length}\")\n",
    "print(f\"Validation Batches: {val_loader_length}\")\n",
    "print(f\"Test Batches: {test_loader_length}\")\n"
   ]
  },
  {
   "cell_type": "code",
   "execution_count": 61,
   "metadata": {},
   "outputs": [],
   "source": [
    "def epoch_time(start_time, end_time):\n",
    "    elapsed_time = end_time - start_time\n",
    "    elapsed_mins = elapsed_time // 60  # Integer division for minutes\n",
    "    elapsed_secs = int(elapsed_time % 60)  # Remaining seconds\n",
    "\n",
    "    return int(elapsed_mins), elapsed_secs\n",
    "\n"
   ]
  },
  {
   "cell_type": "code",
   "execution_count": 62,
   "metadata": {},
   "outputs": [],
   "source": [
    "import time\n",
    "import torch\n",
    "import math\n",
    "\n",
    "def train_loop(model, optimizer, criterion):\n",
    "\n",
    "    # Hyperparameters\n",
    "    num_epochs = 10\n",
    "    clip = 1\n",
    "    best_valid_loss = float('inf')\n",
    "    best_train_loss = 0\n",
    "\n",
    "    # Model save path\n",
    "    save_path = f'./app/models/{model.decoder.mech}model.pt'\n",
    "\n",
    "    # Lists for tracking losses\n",
    "    train_losses = []\n",
    "    valid_losses = []\n",
    "\n",
    "    # Training timer\n",
    "    total_start = time.time()\n",
    "\n",
    "    for epoch in range(num_epochs):\n",
    "        start_time = time.time()\n",
    "\n",
    "        # Train and validate model\n",
    "        train_loss = train(model, train_loader, optimizer, criterion, clip, train_loader_length)\n",
    "        valid_loss = evaluate(model, valid_loader, criterion, val_loader_length)\n",
    "\n",
    "        # Store losses for plotting\n",
    "        train_losses.append(train_loss)\n",
    "        valid_losses.append(valid_loss)\n",
    "\n",
    "        end_time = time.time()\n",
    "        epoch_mins, epoch_secs = epoch_time(start_time, end_time)\n",
    "\n",
    "        # Save best model\n",
    "        if valid_loss < best_valid_loss:\n",
    "            best_valid_loss = valid_loss\n",
    "            best_train_loss = train_loss\n",
    "            torch.save(model.state_dict(), save_path)\n",
    "\n",
    "        # Print epoch summary\n",
    "        print(f'Epoch: {epoch+1:02} | Time: {epoch_mins}m {epoch_secs}s')\n",
    "        print(f'\\tTrain Loss: {train_loss:.3f} | Train PPL: {math.exp(train_loss):7.3f}')\n",
    "        print(f'\\t Val. Loss: {valid_loss:.3f} |  Val. PPL: {math.exp(valid_loss):7.3f}')\n",
    "\n",
    "    # Print total training time\n",
    "    total_end = time.time()\n",
    "    total_mins, total_secs = epoch_time(total_start, total_end)\n",
    "    print(f'Total Training Time: {total_mins}m {total_secs}s')\n",
    "\n",
    "    return train_losses, valid_losses, best_valid_loss, best_train_loss\n"
   ]
  },
  {
   "cell_type": "code",
   "execution_count": 63,
   "metadata": {},
   "outputs": [],
   "source": [
    "import torch\n",
    "import math\n",
    "\n",
    "def test_loop(model, criterion):\n",
    "    # Define model save path\n",
    "    save_path = f'./app/models/{model.decoder.mech}model.pt'\n",
    "\n",
    "    # Load best saved model\n",
    "    model.load_state_dict(torch.load(save_path, map_location=device))\n",
    "    model.eval()  # Set model to evaluation mode\n",
    "\n",
    "    # Compute test loss\n",
    "    test_loss = evaluate(model, test_loader, criterion, test_loader_length)\n",
    "\n",
    "    # Print results\n",
    "    print(f'| Test Loss: {test_loss:.3f} | Test PPL: {math.exp(test_loss):7.3f} |')\n",
    "\n",
    "    return test_loss\n"
   ]
  },
  {
   "cell_type": "code",
   "execution_count": 64,
   "metadata": {},
   "outputs": [],
   "source": [
    "import math\n",
    "\n",
    "def result_print(train_loss, valid_loss):\n",
    "    try:\n",
    "        train_ppl = math.exp(train_loss)\n",
    "        valid_ppl = math.exp(valid_loss)\n",
    "    except OverflowError:\n",
    "        train_ppl, valid_ppl = float('inf'), float('inf')  # Handles large loss values causing math.exp() overflow\n",
    "    \n",
    "    print(f\"Training Loss   : {train_loss:.3f} | Perplexity: {train_ppl:7.3f}\")\n",
    "    print(f\"Validation Loss : {valid_loss:.3f} | Perplexity: {valid_ppl:7.3f}\")\n"
   ]
  },
  {
   "cell_type": "markdown",
   "metadata": {},
   "source": [
    "## Plot Function"
   ]
  },
  {
   "cell_type": "code",
   "execution_count": 65,
   "metadata": {},
   "outputs": [],
   "source": [
    "import matplotlib.pyplot as plt\n",
    "\n",
    "def plot_loss(train_losses, valid_losses):\n",
    "    plt.figure(figsize=(6, 4))  # Slightly larger for better readability\n",
    "    plt.plot(train_losses, label='Training Loss', marker='o', linestyle='-', color='blue')\n",
    "    plt.plot(valid_losses, label='Validation Loss', marker='s', linestyle='--', color='red')\n",
    "\n",
    "    plt.xlabel('Epochs')\n",
    "    plt.ylabel('Loss')\n",
    "    plt.title('Training & Validation Loss')\n",
    "    plt.legend()\n",
    "    plt.grid(True)  # Adds grid for better readability\n",
    "    plt.show()  # Displays the plot\n"
   ]
  },
  {
   "cell_type": "markdown",
   "metadata": {},
   "source": [
    "## General Train"
   ]
  },
  {
   "cell_type": "code",
   "execution_count": 66,
   "metadata": {},
   "outputs": [
    {
     "name": "stdout",
     "output_type": "stream",
     "text": [
      "Epoch: 01 | Time: 1m 24s\n",
      "\tTrain Loss: 5.607 | Train PPL: 272.192\n",
      "\t Val. Loss: 5.577 |  Val. PPL: 264.219\n",
      "Epoch: 02 | Time: 1m 23s\n",
      "\tTrain Loss: 5.566 | Train PPL: 261.503\n",
      "\t Val. Loss: 5.579 |  Val. PPL: 264.831\n",
      "Epoch: 03 | Time: 1m 22s\n",
      "\tTrain Loss: 5.552 | Train PPL: 257.684\n",
      "\t Val. Loss: 5.871 |  Val. PPL: 354.669\n",
      "Epoch: 04 | Time: 1m 23s\n",
      "\tTrain Loss: 5.525 | Train PPL: 250.855\n",
      "\t Val. Loss: 5.848 |  Val. PPL: 346.426\n",
      "Epoch: 05 | Time: 1m 23s\n",
      "\tTrain Loss: 5.517 | Train PPL: 248.914\n",
      "\t Val. Loss: 6.833 |  Val. PPL: 928.231\n",
      "Epoch: 06 | Time: 1m 22s\n",
      "\tTrain Loss: 5.514 | Train PPL: 248.039\n",
      "\t Val. Loss: 7.108 |  Val. PPL: 1221.760\n",
      "Epoch: 07 | Time: 1m 23s\n",
      "\tTrain Loss: 5.511 | Train PPL: 247.463\n",
      "\t Val. Loss: 7.549 |  Val. PPL: 1899.621\n",
      "Epoch: 08 | Time: 1m 22s\n",
      "\tTrain Loss: 5.508 | Train PPL: 246.607\n",
      "\t Val. Loss: 7.727 |  Val. PPL: 2269.587\n",
      "Epoch: 09 | Time: 1m 21s\n",
      "\tTrain Loss: 5.507 | Train PPL: 246.354\n",
      "\t Val. Loss: 7.871 |  Val. PPL: 2621.440\n",
      "Epoch: 10 | Time: 1m 22s\n",
      "\tTrain Loss: 5.504 | Train PPL: 245.681\n",
      "\t Val. Loss: 7.954 |  Val. PPL: 2846.314\n",
      "Total Training Time: 13m 50s\n"
     ]
    }
   ],
   "source": [
    "train_losses, valid_losses, gen_val_loss, gen_train_loss = train_loop(genmodel, optimizer_gen, criterion_gen)"
   ]
  },
  {
   "cell_type": "code",
   "execution_count": 67,
   "metadata": {},
   "outputs": [
    {
     "data": {
      "image/png": "[encoded data removed]",
      "text/plain": [
       "<Figure size 600x400 with 1 Axes>"
      ]
     },
     "metadata": {},
     "output_type": "display_data"
    }
   ],
   "source": [
    "plot_loss(train_losses, valid_losses)"
   ]
  },
  {
   "cell_type": "code",
   "execution_count": 68,
   "metadata": {},
   "outputs": [
    {
     "name": "stdout",
     "output_type": "stream",
     "text": [
      "Training Loss   : 5.607 | Perplexity: 272.192\n",
      "Validation Loss : 5.577 | Perplexity: 264.219\n"
     ]
    }
   ],
   "source": [
    "result_print(gen_train_loss, gen_val_loss)"
   ]
  },
  {
   "cell_type": "code",
   "execution_count": 69,
   "metadata": {},
   "outputs": [
    {
     "name": "stdout",
     "output_type": "stream",
     "text": [
      "| Test Loss: 5.564 | Test PPL: 260.897 |\n"
     ]
    },
    {
     "data": {
      "text/plain": [
       "5.564125356220064"
      ]
     },
     "execution_count": 69,
     "metadata": {},
     "output_type": "execute_result"
    }
   ],
   "source": [
    "test_loop(genmodel, criterion_gen)"
   ]
  },
  {
   "cell_type": "markdown",
   "metadata": {},
   "source": [
    "## Multiplicatve and Additive Train"
   ]
  },
  {
   "cell_type": "code",
   "execution_count": 70,
   "metadata": {},
   "outputs": [
    {
     "name": "stdout",
     "output_type": "stream",
     "text": [
      "Epoch: 01 | Time: 4m 51s\n",
      "\tTrain Loss: 5.603 | Train PPL: 271.292\n",
      "\t Val. Loss: 5.587 |  Val. PPL: 267.003\n",
      "Epoch: 02 | Time: 4m 54s\n",
      "\tTrain Loss: 5.567 | Train PPL: 261.519\n",
      "\t Val. Loss: 5.581 |  Val. PPL: 265.288\n",
      "Epoch: 03 | Time: 4m 49s\n",
      "\tTrain Loss: 5.556 | Train PPL: 258.826\n",
      "\t Val. Loss: 5.615 |  Val. PPL: 274.417\n",
      "Epoch: 04 | Time: 4m 48s\n",
      "\tTrain Loss: 5.536 | Train PPL: 253.535\n",
      "\t Val. Loss: 6.449 |  Val. PPL: 632.184\n",
      "Epoch: 05 | Time: 4m 49s\n",
      "\tTrain Loss: 5.519 | Train PPL: 249.339\n",
      "\t Val. Loss: 6.728 |  Val. PPL: 835.666\n",
      "Epoch: 06 | Time: 4m 51s\n",
      "\tTrain Loss: 5.512 | Train PPL: 247.741\n",
      "\t Val. Loss: 6.243 |  Val. PPL: 514.143\n",
      "Epoch: 07 | Time: 4m 49s\n",
      "\tTrain Loss: 5.510 | Train PPL: 247.112\n",
      "\t Val. Loss: 7.438 |  Val. PPL: 1699.034\n",
      "Epoch: 08 | Time: 4m 54s\n",
      "\tTrain Loss: 5.507 | Train PPL: 246.446\n",
      "\t Val. Loss: 7.714 |  Val. PPL: 2239.472\n",
      "Epoch: 09 | Time: 4m 58s\n",
      "\tTrain Loss: 5.508 | Train PPL: 246.573\n",
      "\t Val. Loss: 7.453 |  Val. PPL: 1725.803\n",
      "Epoch: 10 | Time: 4m 50s\n",
      "\tTrain Loss: 5.506 | Train PPL: 246.109\n",
      "\t Val. Loss: 7.351 |  Val. PPL: 1557.283\n",
      "Total Training Time: 48m 37s\n"
     ]
    }
   ],
   "source": [
    "train_losses_mul, valid_losses_mul, mul_val_loss, mul_train_loss = train_loop(mulmodel, optimizer_mul, criterion_mul)\n"
   ]
  },
  {
   "cell_type": "code",
   "execution_count": 71,
   "metadata": {},
   "outputs": [],
   "source": [
    "import torch\n",
    "torch.cuda.empty_cache()\n"
   ]
  },
  {
   "cell_type": "code",
   "execution_count": 72,
   "metadata": {},
   "outputs": [
    {
     "name": "stdout",
     "output_type": "stream",
     "text": [
      "Epoch: 01 | Time: 11m 19s\n",
      "\tTrain Loss: 4.539 | Train PPL:  93.618\n",
      "\t Val. Loss: 4.018 |  Val. PPL:  55.578\n",
      "Epoch: 02 | Time: 24m 23s\n",
      "\tTrain Loss: 3.915 | Train PPL:  50.150\n",
      "\t Val. Loss: 3.746 |  Val. PPL:  42.362\n",
      "Epoch: 03 | Time: 24m 22s\n",
      "\tTrain Loss: 3.726 | Train PPL:  41.502\n",
      "\t Val. Loss: 3.596 |  Val. PPL:  36.459\n",
      "Epoch: 04 | Time: 24m 21s\n",
      "\tTrain Loss: 3.609 | Train PPL:  36.943\n",
      "\t Val. Loss: 3.503 |  Val. PPL:  33.229\n",
      "Epoch: 05 | Time: 24m 34s\n",
      "\tTrain Loss: 3.528 | Train PPL:  34.051\n",
      "\t Val. Loss: 3.436 |  Val. PPL:  31.065\n",
      "Epoch: 06 | Time: 24m 13s\n",
      "\tTrain Loss: 3.467 | Train PPL:  32.043\n",
      "\t Val. Loss: 3.381 |  Val. PPL:  29.410\n",
      "Epoch: 07 | Time: 24m 27s\n",
      "\tTrain Loss: 3.423 | Train PPL:  30.647\n",
      "\t Val. Loss: 3.340 |  Val. PPL:  28.227\n",
      "Epoch: 08 | Time: 24m 8s\n",
      "\tTrain Loss: 3.386 | Train PPL:  29.553\n",
      "\t Val. Loss: 3.307 |  Val. PPL:  27.307\n",
      "Epoch: 09 | Time: 24m 20s\n",
      "\tTrain Loss: 3.354 | Train PPL:  28.606\n",
      "\t Val. Loss: 3.282 |  Val. PPL:  26.623\n",
      "Epoch: 10 | Time: 24m 28s\n",
      "\tTrain Loss: 3.329 | Train PPL:  27.907\n",
      "\t Val. Loss: 3.262 |  Val. PPL:  26.114\n",
      "Total Training Time: 230m 40s\n"
     ]
    }
   ],
   "source": [
    "train_losses_add, valid_losses_add, add_val_loss, add_train_loss = train_loop(addmodel, optimizer_add, criterion_add)"
   ]
  },
  {
   "cell_type": "code",
   "execution_count": 73,
   "metadata": {},
   "outputs": [
    {
     "data": {
      "text/plain": [
       "[<matplotlib.lines.Line2D at 0x25334987e10>]"
      ]
     },
     "execution_count": 73,
     "metadata": {},
     "output_type": "execute_result"
    },
    {
     "data": {
      "image/png": "[encoded data removed]",
      "text/plain": [
       "<Figure size 800x500 with 1 Axes>"
      ]
     },
     "metadata": {},
     "output_type": "display_data"
    }
   ],
   "source": [
    "# Plot loss curves for two models\n",
    "plt.figure(figsize=(8, 5))\n",
    "plt.plot(train_losses_mul, label='Mul Train Loss', marker='o', linestyle='-', color='green')\n",
    "plt.plot(valid_losses_mul, label='Mul Val Loss', marker='s', linestyle='--', color='orange')\n",
    "\n",
    "plt.plot(train_losses_add, label='Add Train Loss', marker='o', linestyle='-', color='purple')\n",
    "plt.plot(valid_losses_add, label='Add Val Loss', marker='s', linestyle='--', color='brown')\n"
   ]
  },
  {
   "cell_type": "code",
   "execution_count": 76,
   "metadata": {},
   "outputs": [
    {
     "name": "stdout",
     "output_type": "stream",
     "text": [
      "| Test Loss: 5.567 | Test PPL: 261.587 |\n"
     ]
    },
    {
     "data": {
      "text/plain": [
       "5.566768392683968"
      ]
     },
     "execution_count": 76,
     "metadata": {},
     "output_type": "execute_result"
    }
   ],
   "source": [
    "test_loop(mulmodel, criterion_mul)"
   ]
  },
  {
   "cell_type": "code",
   "execution_count": 77,
   "metadata": {},
   "outputs": [
    {
     "name": "stdout",
     "output_type": "stream",
     "text": [
      "Training Loss   : 5.567 | Perplexity: 261.519\n",
      "Validation Loss : 5.581 | Perplexity: 265.288\n"
     ]
    }
   ],
   "source": [
    "result_print(mul_train_loss, mul_val_loss)"
   ]
  },
  {
   "cell_type": "code",
   "execution_count": 78,
   "metadata": {},
   "outputs": [
    {
     "name": "stdout",
     "output_type": "stream",
     "text": [
      "| Test Loss: 3.268 | Test PPL:  26.247 |\n"
     ]
    },
    {
     "data": {
      "text/plain": [
       "3.2675520124889554"
      ]
     },
     "execution_count": 78,
     "metadata": {},
     "output_type": "execute_result"
    }
   ],
   "source": [
    "test_loop(addmodel, criterion_add)"
   ]
  },
  {
   "cell_type": "code",
   "execution_count": 79,
   "metadata": {},
   "outputs": [
    {
     "name": "stdout",
     "output_type": "stream",
     "text": [
      "Training Loss   : 3.329 | Perplexity:  27.907\n",
      "Validation Loss : 3.262 | Perplexity:  26.114\n"
     ]
    }
   ],
   "source": [
    "result_print(add_train_loss, add_val_loss)"
   ]
  },
  {
   "cell_type": "markdown",
   "metadata": {},
   "source": [
    "## Inference"
   ]
  },
  {
   "cell_type": "code",
   "execution_count": 82,
   "metadata": {},
   "outputs": [],
   "source": [
    "import torch\n",
    "\n",
    "# Define save paths for each model\n",
    "model_save_paths = {\n",
    "    \"gen\": \"app/models/gen_best_model.pt\",\n",
    "    \"mul\": \"app/models/mul_best_model.pt\",\n",
    "    \"add\": \"app/models/add_best_model.pt\"\n",
    "}\n",
    "\n",
    "# Save models\n",
    "torch.save(genmodel.state_dict(), model_save_paths[\"gen\"])\n",
    "torch.save(mulmodel.state_dict(), model_save_paths[\"mul\"])\n",
    "torch.save(addmodel.state_dict(), model_save_paths[\"add\"])\n"
   ]
  },
  {
   "cell_type": "code",
   "execution_count": 88,
   "metadata": {},
   "outputs": [],
   "source": [
    "def load_model(attention_type):\n",
    "\n",
    "    assert attention_type in [\"gen\", \"mul\", \"add\"], \"Invalid attention type! Choose from: 'gen', 'mul', 'add'.\"\n",
    "    \n",
    "    # Initialize model\n",
    "    model = initialize_model(attention_type)\n",
    "\n",
    "    # Define the correct save path\n",
    "    save_path = f\"app/models/{attention_type}_best_model.pt\"\n",
    "\n",
    "    # Load saved weights\n",
    "    save_path = f\"app/models/{attention_type}_best_model.pt\"\n",
    "    model.load_state_dict(torch.load(save_path, map_location=device))\n",
    "    model.eval()\n",
    "\n",
    "    print(f\"{attention_type.upper()} Model Loaded Successfully!\")\n",
    "    return model\n"
   ]
  },
  {
   "cell_type": "code",
   "execution_count": 89,
   "metadata": {},
   "outputs": [
    {
     "name": "stdout",
     "output_type": "stream",
     "text": [
      "GEN Model Loaded Successfully!\n",
      "MUL Model Loaded Successfully!\n",
      "ADD Model Loaded Successfully!\n"
     ]
    }
   ],
   "source": [
    "gen_model = load_model(\"gen\")\n",
    "mul_model = load_model(\"mul\")\n",
    "add_model = load_model(\"add\")"
   ]
  },
  {
   "cell_type": "code",
   "execution_count": 99,
   "metadata": {},
   "outputs": [
    {
     "name": "stdout",
     "output_type": "stream",
     "text": [
      "\n",
      " English Sentence: The weather is nice today.\n",
      "General Attention Translation: ▁ ▁ ▁ ▁ ▁ ▁ ▁ ▁ ▁ ▁ ▁ ▁ ▁ ▁ ▁ ▁ ▁ ▁ ▁ ▁ ▁ ▁ ▁ ▁ ▁ ▁ ▁ ▁ ▁ ▁ ▁ ▁ ▁ ▁ ▁ ▁ ▁ ▁ ▁ ▁ ▁ ▁ ▁ ▁ ▁ ▁ ▁ ▁ ▁ ▁ ▁ ▁ ▁ ▁ ▁ ▁ ▁ ▁ ▁ ▁ ▁ ▁ ▁ ▁ ▁ ▁ ▁ ▁ ▁ ▁ ▁ ▁ ▁ ▁ ▁ ▁ ▁ ▁ ▁ ▁ ▁ ▁ ▁ ▁ ▁ ▁ ▁ ▁ ▁ ▁ ▁ ▁ ▁ ▁ ▁ ▁ ▁ ▁ ▁ ▁\n",
      "Multiplicative Attention Translation: ▁ ▁ ▁ ▁ ▁ ▁ ▁ ▁ ▁ ▁ ▁ ▁ ▁ ▁ ▁ ▁ ▁ ▁ ▁ ▁ ▁ ▁ ▁ ▁ ▁ ▁ ▁ ▁ ▁ ▁ ▁ ▁ ▁ ▁ ▁ ▁ ▁ ▁ ▁ ▁ ▁ ▁ ▁ ▁ ▁ ▁ ▁ ▁ ▁ ▁ ▁ ▁ ▁ ▁ ▁ ▁ ▁ ▁ ▁ ▁ ▁ ▁ ▁ ▁ ▁ ▁ ▁ ▁ ▁ ▁ ▁ ▁ ▁ ▁ ▁ ▁ ▁ ▁ ▁ ▁ ▁ ▁ ▁ ▁ ▁ ▁ ▁ ▁ ▁ ▁ ▁ ▁ ▁ ▁ ▁ ▁ ▁ ▁ ▁ ▁\n",
      "Additive Attention Translation: ▁ <unk> င်း ▁ သည် ▁ <unk> င်း တို့ ▁ သည် ▁ <unk> င်း တို့ ▁၏ ▁ <unk> ▁ တို့ ▁၏ ▁ <unk> ▁ <unk> ▁ တို့ ▁၏ ▁ <unk> ▁ ဇီ လန် ▁ တို့ ▁၏ ▁ <unk> ▁ ဇီ လန် ▁ တို့ ▁၏ ▁ <unk> ▁ <unk> ▁ တို့ ▁ကို ▁ <unk> င်း ▁ တို့ ▁ တို့ ▁ သည် ▁ <unk> င်း ▁ တို့ ▁ တို့ ▁ သည် ▁ တို့ ▁ တို့ ▁ တို့ ▁ သည် ▁ <unk> င်း ▁ တို့ ▁ တို့ ▁ သည် ▁ တို့ ▁ တို့ ▁ သည် ▁ တို့ ▁ တို့ ▁ သည် ▁ <unk>\n"
     ]
    }
   ],
   "source": [
    "def translate(model, src_sentence):\n",
    "    model.eval()\n",
    "\n",
    "    # Tokenize and numericalize source sentence\n",
    "    src_text = text_transform[\"en\"](src_sentence).to(device).unsqueeze(0)  # Add batch dimension\n",
    "\n",
    "    # Generate target sequence (start with <sos>)\n",
    "    trg_text = torch.tensor([SOS_IDX], dtype=torch.long, device=device).unsqueeze(0)\n",
    "\n",
    "    for _ in range(100):  # Maximum translation length (adjustable)\n",
    "        with torch.no_grad():\n",
    "            output, _ = model(src_text, trg_text)\n",
    "\n",
    "        # Get highest probability token for the next word\n",
    "        next_token = output.argmax(-1)[:, -1].item()\n",
    "\n",
    "        # Stop if <eos> token is reached\n",
    "        if next_token == EOS_IDX:\n",
    "            break\n",
    "\n",
    "        # Append next token to trg_text\n",
    "        trg_text = torch.cat([trg_text, torch.tensor([[next_token]], dtype=torch.long, device=device)], dim=1)\n",
    "\n",
    "    # Convert token IDs to words\n",
    "    itos_trg = vocab_transform[\"my\"].get_itos()\n",
    "    translated_sentence = [itos_trg[token] for token in trg_text[0].tolist()]\n",
    "\n",
    "    # Remove special tokens & format sentence\n",
    "    translated_text = \" \".join(translated_sentence).replace(\"<pad>\", \"\").replace(\"<sos>\", \"\").replace(\"<eos>\", \"\").strip()\n",
    "    \n",
    "    return translated_text\n",
    "\n",
    "# Example: Translate an English sentence using General Attention Model\n",
    "src_sentence = \"The weather is nice today.\"\n",
    "translated_gen = translate(gen_model, src_sentence)\n",
    "translated_mul = translate(mul_model, src_sentence)\n",
    "translated_add = translate(add_model, src_sentence)\n",
    "\n",
    "print(\"\\n English Sentence:\", src_sentence)\n",
    "print(\"General Attention Translation:\", translated_gen)\n",
    "print(\"Multiplicative Attention Translation:\", translated_mul)\n",
    "print(\"Additive Attention Translation:\", translated_add)\n"
   ]
  },
  {
   "cell_type": "code",
   "execution_count": 91,
   "metadata": {},
   "outputs": [
    {
     "data": {
      "text/plain": [
       "'Prime Minister Stephen Harper urged Canadians to pay tribute to the soldiers and aid workers in Afghanistan.'"
      ]
     },
     "execution_count": 91,
     "metadata": {},
     "output_type": "execute_result"
    }
   ],
   "source": [
    "sample[0]"
   ]
  },
  {
   "cell_type": "code",
   "execution_count": 92,
   "metadata": {},
   "outputs": [
    {
     "data": {
      "text/plain": [
       "'ဝန်ကြီးချုပ် စတီဖန် ဟာပါ သည် အာဖကန်နစ္စတန် ရှိ စစ်သား များ နှင့် ပရဟိတ ဆောင်ရွက်ပေးနေသူ များ ကို ချီးကျူး ဂုဏ်ပြုခြင်း ပြုလုပ် ပေး ရန် ကနေဒါ လူမျိုး များ ကို တိုက်တွန်း ခဲ့ ပါ သည် ။'"
      ]
     },
     "execution_count": 92,
     "metadata": {},
     "output_type": "execute_result"
    }
   ],
   "source": [
    "sample[1]"
   ]
  },
  {
   "cell_type": "code",
   "execution_count": 93,
   "metadata": {},
   "outputs": [
    {
     "name": "stdout",
     "output_type": "stream",
     "text": [
      " Source Tokens: ['▁The', '▁weather', '▁is', '▁nice', '▁today', '.']\n",
      " Source Token IDs: [17, 1548, 22, 11253, 159, 6]\n",
      " Vocabulary Debug: [('▁The', 17, '▁The'), ('▁weather', 1548, '▁weather'), ('▁is', 22, '▁is'), ('▁nice', 11253, '▁nice'), ('▁today', 159, '▁today'), ('.', 6, '.')]\n"
     ]
    }
   ],
   "source": [
    "# Debug source tokens\n",
    "src_tokens = token_transform[\"en\"](src_sentence)\n",
    "src_ids = [vocab_transform[\"en\"][token] for token in src_tokens]\n",
    "src_vocab_debug = [(token, vocab_transform[\"en\"].get_stoi()[token], vocab_transform[\"en\"].get_itos()[vocab_transform[\"en\"].get_stoi()[token]]) for token in src_tokens]\n",
    "\n",
    "print(\" Source Tokens:\", src_tokens)\n",
    "print(\" Source Token IDs:\", src_ids)\n",
    "print(\" Vocabulary Debug:\", src_vocab_debug)"
   ]
  },
  {
   "cell_type": "code",
   "execution_count": 101,
   "metadata": {},
   "outputs": [
    {
     "name": "stdout",
     "output_type": "stream",
     "text": [
      "Predicted Tokens: ['▁', 'တ်', '<unk>', '▁', 'သည်', '▁', '▁', '<unk>']\n"
     ]
    }
   ],
   "source": [
    "src_sentence = \"The weather is nice today.\"  # Example source sentence\n",
    "\n",
    "# Tokenize and convert to IDs\n",
    "src_text = text_transform[SRC_LANGUAGE](src_sentence).to(device)\n",
    "src_text = src_text.reshape(1, -1)  # Reshape for batch size of 1\n",
    "\n",
    "# Run model inference\n",
    "model.eval()\n",
    "with torch.no_grad():\n",
    "    output, attentions = model(src_text, src_text)\n",
    "\n",
    "# Process the output\n",
    "output = output.squeeze(0)  # Remove batch dimension\n",
    "output_max = output.argmax(1)  # Get token indices for each position\n",
    "\n",
    "# Map token IDs to tokens\n",
    "mapping = vocab_transform[\"my\"].get_itos()\n",
    "trg_tokens = [mapping[token.item()] for token in output_max]\n",
    "\n",
    "# Print predicted tokens\n",
    "print(\"Predicted Tokens:\", trg_tokens)"
   ]
  },
  {
   "cell_type": "code",
   "execution_count": 102,
   "metadata": {},
   "outputs": [
    {
     "name": "stdout",
     "output_type": "stream",
     "text": [
      "Predicted Sentence: တ်[UNK] သည်  [UNK]\n"
     ]
    }
   ],
   "source": [
    "predicted_sentence = ''.join(trg_tokens).replace('▁', ' ').replace('<unk>', '[UNK]').strip()\n",
    "print(\"Predicted Sentence:\", predicted_sentence)"
   ]
  },
  {
   "cell_type": "code",
   "execution_count": 117,
   "metadata": {},
   "outputs": [
    {
     "name": "stdout",
     "output_type": "stream",
     "text": [
      "Source Text Shape: torch.Size([1, 8])\n",
      "Target Text Shape: torch.Size([1, 10])\n"
     ]
    }
   ],
   "source": [
    "# Example: Translate an English sentence\n",
    "sample_src_sentence = \"The weather is nice today.\"\n",
    "sample_trg_sentence = \"မိုးလေဝသ အခု ကောင်းပါတယ်။\"  # Expected Myanmar translation (optional)\n",
    "\n",
    "# Transform source and target sentences\n",
    "src_text = text_transform[\"en\"](sample_src_sentence).to(device).reshape(1, -1)  # Batch size = 1\n",
    "trg_text = text_transform[\"my\"](sample_trg_sentence).to(device).reshape(1, -1)  # Batch size = 1\n",
    "\n",
    "# Print shapes for debugging\n",
    "print(\"Source Text Shape:\", src_text.shape)  # [1, src_len]\n",
    "print(\"Target Text Shape:\", trg_text.shape)  # [1, trg_len]"
   ]
  },
  {
   "cell_type": "markdown",
   "metadata": {},
   "source": [
    "## Generator Function"
   ]
  },
  {
   "cell_type": "code",
   "execution_count": 104,
   "metadata": {},
   "outputs": [],
   "source": [
    "mapping = {}\n",
    "mapping[SRC_LANGUAGE] = vocab_transform[SRC_LANGUAGE].get_itos()\n",
    "mapping[TRG_LANGUAGE] = vocab_transform[TRG_LANGUAGE].get_itos()"
   ]
  },
  {
   "cell_type": "code",
   "execution_count": null,
   "metadata": {},
   "outputs": [],
   "source": [
    "# Fix for inconsistent tensor dimensions in attentions\n",
    "def greedy_decode(model, src_sentence, max_len, device):\n",
    "    # Tokenize and numericalize the source sentence\n",
    "    src_tokens = text_transform[\"en\"](src_sentence).to(device)\n",
    "    src_tokens = src_tokens.unsqueeze(0)  # Add batch dimension\n",
    "\n",
    "    # Generate source mask\n",
    "    src_mask = model.make_src_mask(src_tokens)\n",
    "\n",
    "    # Encode the source sentence\n",
    "    enc_src = model.encoder(src_tokens, src_mask)\n",
    "\n",
    "    # Start decoding\n",
    "    trg_tokens = [SOS_IDX]  # Begin with <sos> token\n",
    "\n",
    "    attentions = []  # Collect attentions\n",
    "\n",
    "    for _ in range(max_len):\n",
    "        trg_tensor = torch.tensor(trg_tokens, dtype=torch.long).unsqueeze(0).to(device)\n",
    "        trg_mask = model.make_trg_mask(trg_tensor)\n",
    "\n",
    "        # Pass through the decoder\n",
    "        output, attention = model.decoder(trg_tensor, enc_src, trg_mask, src_mask)\n",
    "\n",
    "        # Collect attention weights (ensure consistent dimensions)\n",
    "        attentions.append(attention[:, :, :len(trg_tokens), :])  # Truncate to match trg_len\n",
    "\n",
    "        # Get the most probable next token\n",
    "        pred_token = output.argmax(2)[:, -1].item()\n",
    "        trg_tokens.append(pred_token)\n",
    "\n",
    "        # Stop if <eos> is reached\n",
    "        if pred_token == EOS_IDX:\n",
    "            break\n",
    "\n",
    "    # Convert token IDs back to strings\n",
    "    trg_sentence = [vocab_transform[\"my\"].get_itos()[token] for token in trg_tokens[1:]]  # Exclude <sos>\n",
    "\n",
    "    # Concatenate attention weights across all time steps\n",
    "    attentions = torch.cat(attentions, dim=2)  # Concatenate on the trg_len dimension\n",
    "\n",
    "    return trg_sentence, attentions\n"
   ]
  },
  {
   "cell_type": "code",
   "execution_count": 110,
   "metadata": {},
   "outputs": [],
   "source": [
    "# Define display_attention function for visualization\n",
    "def display_attention(sentence, translation, attention):\n",
    "    import matplotlib.ticker as ticker\n",
    "    fig = plt.figure(figsize=(10, 10))\n",
    "    ax = fig.add_subplot(111)\n",
    "\n",
    "    attention = attention.squeeze(0).cpu().detach().numpy()\n",
    "\n",
    "    cax = ax.matshow(attention, cmap='bone')\n",
    "\n",
    "    ax.tick_params(labelsize=12)\n",
    "\n",
    "    # Add tokens as tick labels\n",
    "    ax.set_xticklabels([''] + sentence, rotation=45)\n",
    "    ax.set_yticklabels([''] + translation)\n",
    "\n",
    "    ax.xaxis.set_major_locator(ticker.MultipleLocator(1))\n",
    "    ax.yaxis.set_major_locator(ticker.MultipleLocator(1))\n",
    "\n",
    "    plt.show()\n",
    "    plt.close()\n"
   ]
  },
  {
   "cell_type": "code",
   "execution_count": 114,
   "metadata": {},
   "outputs": [
    {
     "name": "stdout",
     "output_type": "stream",
     "text": [
      "\n",
      " General Attention Model\n",
      "🔹 Predicted Translation (General): <sos> ▁ ▁ ▁ ▁ ▁ ▁ ▁ ▁ ▁ ▁ ▁ ▁ ▁ ▁ ▁ ▁ ▁ ▁ ▁ ▁ ▁ ▁ ▁ ▁ ▁ ▁ ▁ ▁ ▁ ▁ ▁ ▁ ▁ ▁ ▁ ▁ ▁ ▁ ▁ ▁ ▁ ▁ ▁ ▁ ▁ ▁ ▁ ▁ ▁ ▁ <eos>\n",
      "\n",
      " Multiplicative Attention Model\n",
      "🔹 Predicted Translation (Multiplicative): <sos> ▁ ▁ ▁ ▁ ▁ ▁ ▁ ▁ ▁ ▁ ▁ ▁ ▁ ▁ ▁ ▁ ▁ ▁ ▁ ▁ ▁ ▁ ▁ ▁ ▁ ▁ ▁ ▁ ▁ ▁ ▁ ▁ ▁ ▁ ▁ ▁ ▁ ▁ ▁ ▁ ▁ ▁ ▁ ▁ ▁ ▁ ▁ ▁ ▁ ▁ <eos>\n",
      "\n",
      " Additive Attention Model\n",
      "🔹 Predicted Translation (Additive): <sos> ▁ <unk> င်း ▁ သည် ▁ <unk> င်း တို့ ▁ သည် ▁ <unk> င်း တို့ ▁၏ ▁ <unk> ▁ တို့ ▁၏ ▁ <unk> ▁ <unk> ▁ တို့ ▁၏ ▁ <unk> ▁ ဇီ လန် ▁ တို့ ▁၏ ▁ <unk> ▁ ဇီ လန် ▁ တို့ ▁၏ ▁ <unk> ▁ <unk> ▁ တို့ <eos>\n"
     ]
    }
   ],
   "source": [
    "# Define a source sentence for translation\n",
    "sample_src_sentence = \"I go to the market.\"\n",
    "\n",
    "# Translate and visualize for all models\n",
    "for model_name, model in [(\"General\", gen_model), (\"Multiplicative\", mul_model), (\"Additive\", add_model)]:\n",
    "    print(f\"\\n {model_name} Attention Model\")\n",
    "\n",
    "    # Perform greedy decoding\n",
    "    trg_tokens, attention = greedy_decode(model, sample_src_sentence, max_len=50, device=device)\n",
    "\n",
    "    # Add special tokens for visualization\n",
    "    src_tokens = [\"<sos>\"] + token_transform[\"en\"](sample_src_sentence) + [\"<eos>\"]\n",
    "    trg_tokens = [\"<sos>\"] + trg_tokens + [\"<eos>\"]\n",
    "\n",
    "    # Print translation\n",
    "    print(f\"🔹 Predicted Translation ({model_name}):\", \" \".join(trg_tokens))"
   ]
  },
  {
   "cell_type": "code",
   "execution_count": 95,
   "metadata": {},
   "outputs": [],
   "source": [
    "# Define function to evaluate and generate translation\n",
    "def evaluate_translation(model, src_text, trg_text, vocab_transform, attention_type):\n",
    "    model.eval()\n",
    "    with torch.no_grad():\n",
    "        # Forward pass through the model\n",
    "        output, attentions = model(src_text, trg_text)  # Turn off teacher forcing\n",
    "    \n",
    "    # Remove <sos> token from the beginning of the output\n",
    "    output = output.squeeze(0)[1:]  # [trg_len, trg_output_dim]\n",
    "    output_max = output.argmax(1)  # Get predicted token indices\n",
    "\n",
    "    # Convert token indices back to words\n",
    "    trg_tokens = [vocab_transform[\"my\"].get_itos()[idx.item()] for idx in output_max]\n",
    "\n",
    "    # Attention visualization\n",
    "    attention = attentions[0, 0, :, :]  # First attention head\n",
    "    return trg_tokens, attention"
   ]
  },
  {
   "cell_type": "code",
   "execution_count": 115,
   "metadata": {},
   "outputs": [
    {
     "name": "stdout",
     "output_type": "stream",
     "text": [
      "\n",
      "🔸 General Attention Model\n",
      "🔹 Predicted Translation (General): <sos> ▁ ▁ ▁ ▁ ▁ ▁ ▁ ▁ ▁\n"
     ]
    },
    {
     "name": "stderr",
     "output_type": "stream",
     "text": [
      "C:\\Users\\st124\\AppData\\Local\\Temp\\ipykernel_21280\\1505553690.py:14: UserWarning: set_ticklabels() should only be used with a fixed number of ticks, i.e. after set_ticks() or using a FixedLocator.\n",
      "  ax.set_xticklabels([''] + sentence, rotation=45)\n",
      "C:\\Users\\st124\\AppData\\Local\\Temp\\ipykernel_21280\\1505553690.py:15: UserWarning: set_ticklabels() should only be used with a fixed number of ticks, i.e. after set_ticks() or using a FixedLocator.\n",
      "  ax.set_yticklabels([''] + translation)\n"
     ]
    },
    {
     "data": {
      "image/png": "[encoded data removed]",
      "text/plain": [
       "<Figure size 1000x1000 with 1 Axes>"
      ]
     },
     "metadata": {},
     "output_type": "display_data"
    },
    {
     "name": "stdout",
     "output_type": "stream",
     "text": [
      "\n",
      "🔸 Multiplicative Attention Model\n",
      "🔹 Predicted Translation (Multiplicative): <sos> ▁ ▁ ▁ ▁ ▁ ▁ ▁ ▁ ▁\n"
     ]
    },
    {
     "name": "stderr",
     "output_type": "stream",
     "text": [
      "C:\\Users\\st124\\AppData\\Local\\Temp\\ipykernel_21280\\1505553690.py:14: UserWarning: set_ticklabels() should only be used with a fixed number of ticks, i.e. after set_ticks() or using a FixedLocator.\n",
      "  ax.set_xticklabels([''] + sentence, rotation=45)\n",
      "C:\\Users\\st124\\AppData\\Local\\Temp\\ipykernel_21280\\1505553690.py:15: UserWarning: set_ticklabels() should only be used with a fixed number of ticks, i.e. after set_ticks() or using a FixedLocator.\n",
      "  ax.set_yticklabels([''] + translation)\n"
     ]
    },
    {
     "data": {
      "image/png": "[encoded data removed]",
      "text/plain": [
       "<Figure size 1000x1000 with 1 Axes>"
      ]
     },
     "metadata": {},
     "output_type": "display_data"
    },
    {
     "name": "stdout",
     "output_type": "stream",
     "text": [
      "\n",
      "🔸 Additive Attention Model\n",
      "🔹 Predicted Translation (Additive): <sos> ရွာ ေ၀ ▁ င်္ ▁ <unk> မ ▁ ပူ\n"
     ]
    },
    {
     "name": "stderr",
     "output_type": "stream",
     "text": [
      "C:\\Users\\st124\\AppData\\Local\\Temp\\ipykernel_21280\\1505553690.py:14: UserWarning: set_ticklabels() should only be used with a fixed number of ticks, i.e. after set_ticks() or using a FixedLocator.\n",
      "  ax.set_xticklabels([''] + sentence, rotation=45)\n",
      "C:\\Users\\st124\\AppData\\Local\\Temp\\ipykernel_21280\\1505553690.py:15: UserWarning: set_ticklabels() should only be used with a fixed number of ticks, i.e. after set_ticks() or using a FixedLocator.\n",
      "  ax.set_yticklabels([''] + translation)\n",
      "c:\\Users\\st124\\OneDrive\\Desktop\\NLP_A3\\.venv\\Lib\\site-packages\\IPython\\core\\pylabtools.py:170: UserWarning: Glyph 4123 (\\N{MYANMAR LETTER RA}) missing from font(s) DejaVu Sans.\n",
      "  fig.canvas.print_figure(bytes_io, **kw)\n",
      "c:\\Users\\st124\\OneDrive\\Desktop\\NLP_A3\\.venv\\Lib\\site-packages\\IPython\\core\\pylabtools.py:170: UserWarning: Glyph 4157 (\\N{MYANMAR CONSONANT SIGN MEDIAL WA}) missing from font(s) DejaVu Sans.\n",
      "  fig.canvas.print_figure(bytes_io, **kw)\n",
      "c:\\Users\\st124\\OneDrive\\Desktop\\NLP_A3\\.venv\\Lib\\site-packages\\IPython\\core\\pylabtools.py:170: UserWarning: Glyph 4140 (\\N{MYANMAR VOWEL SIGN AA}) missing from font(s) DejaVu Sans.\n",
      "  fig.canvas.print_figure(bytes_io, **kw)\n",
      "c:\\Users\\st124\\OneDrive\\Desktop\\NLP_A3\\.venv\\Lib\\site-packages\\IPython\\core\\pylabtools.py:170: UserWarning: Glyph 4145 (\\N{MYANMAR VOWEL SIGN E}) missing from font(s) DejaVu Sans.\n",
      "  fig.canvas.print_figure(bytes_io, **kw)\n",
      "c:\\Users\\st124\\OneDrive\\Desktop\\NLP_A3\\.venv\\Lib\\site-packages\\IPython\\core\\pylabtools.py:170: UserWarning: Glyph 4160 (\\N{MYANMAR DIGIT ZERO}) missing from font(s) DejaVu Sans.\n",
      "  fig.canvas.print_figure(bytes_io, **kw)\n",
      "c:\\Users\\st124\\OneDrive\\Desktop\\NLP_A3\\.venv\\Lib\\site-packages\\IPython\\core\\pylabtools.py:170: UserWarning: Glyph 4100 (\\N{MYANMAR LETTER NGA}) missing from font(s) DejaVu Sans.\n",
      "  fig.canvas.print_figure(bytes_io, **kw)\n",
      "c:\\Users\\st124\\OneDrive\\Desktop\\NLP_A3\\.venv\\Lib\\site-packages\\IPython\\core\\pylabtools.py:170: UserWarning: Glyph 4154 (\\N{MYANMAR SIGN ASAT}) missing from font(s) DejaVu Sans.\n",
      "  fig.canvas.print_figure(bytes_io, **kw)\n",
      "c:\\Users\\st124\\OneDrive\\Desktop\\NLP_A3\\.venv\\Lib\\site-packages\\IPython\\core\\pylabtools.py:170: UserWarning: Glyph 4153 (\\N{MYANMAR SIGN VIRAMA}) missing from font(s) DejaVu Sans.\n",
      "  fig.canvas.print_figure(bytes_io, **kw)\n",
      "c:\\Users\\st124\\OneDrive\\Desktop\\NLP_A3\\.venv\\Lib\\site-packages\\IPython\\core\\pylabtools.py:170: UserWarning: Glyph 4121 (\\N{MYANMAR LETTER MA}) missing from font(s) DejaVu Sans.\n",
      "  fig.canvas.print_figure(bytes_io, **kw)\n",
      "c:\\Users\\st124\\OneDrive\\Desktop\\NLP_A3\\.venv\\Lib\\site-packages\\IPython\\core\\pylabtools.py:170: UserWarning: Glyph 4117 (\\N{MYANMAR LETTER PA}) missing from font(s) DejaVu Sans.\n",
      "  fig.canvas.print_figure(bytes_io, **kw)\n",
      "c:\\Users\\st124\\OneDrive\\Desktop\\NLP_A3\\.venv\\Lib\\site-packages\\IPython\\core\\pylabtools.py:170: UserWarning: Glyph 4144 (\\N{MYANMAR VOWEL SIGN UU}) missing from font(s) DejaVu Sans.\n",
      "  fig.canvas.print_figure(bytes_io, **kw)\n"
     ]
    },
    {
     "data": {
      "image/png": "[encoded data removed]",
      "text/plain": [
       "<Figure size 1000x1000 with 1 Axes>"
      ]
     },
     "metadata": {},
     "output_type": "display_data"
    }
   ],
   "source": [
    "# Translate and visualize for all models\n",
    "for model_name, model in [(\"General\", gen_model), (\"Multiplicative\", mul_model), (\"Additive\", add_model)]:\n",
    "    print(f\"\\n🔸 {model_name} Attention Model\")\n",
    "    trg_tokens, attention = evaluate_translation(model, src_text, trg_text, vocab_transform, model_name)\n",
    "    \n",
    "    # Add special tokens for visualization\n",
    "    src_tokens = [\"<sos>\"] + token_transform[\"en\"](sample_src_sentence) + [\"<eos>\"]\n",
    "    trg_tokens = [\"<sos>\"] + trg_tokens\n",
    "    \n",
    "    # Print translation\n",
    "    print(f\"🔹 Predicted Translation ({model_name}):\", \" \".join(trg_tokens))\n",
    "    \n",
    "    # Visualize attention\n",
    "    display_attention(src_tokens, trg_tokens, attention)"
   ]
  },
  {
   "cell_type": "code",
   "execution_count": null,
   "metadata": {},
   "outputs": [],
   "source": []
  }
 ],
 "metadata": {
  "kernelspec": {
   "display_name": ".venv",
   "language": "python",
   "name": "python3"
  },
  "language_info": {
   "codemirror_mode": {
    "name": "ipython",
    "version": 3
   },
   "file_extension": ".py",
   "mimetype": "text/x-python",
   "name": "python",
   "nbconvert_exporter": "python",
   "pygments_lexer": "ipython3",
   "version": "3.11.9"
  }
 },
 "nbformat": 4,
 "nbformat_minor": 2
}
